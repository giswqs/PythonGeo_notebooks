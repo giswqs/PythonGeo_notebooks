{
 "cells": [
  {
   "cell_type": "markdown",
   "id": "eb23816d",
   "metadata": {},
   "source": [
    "2fZYaNV0yVWzp7Qkq7atmK701x8sHRMVF7PSn42Mbd"
   ]
  },
  {
   "cell_type": "code",
   "execution_count": 1,
   "id": "0baa616d",
   "metadata": {},
   "outputs": [
    {
     "name": "stdout",
     "output_type": "stream",
     "text": [
      "Requirement already satisfied: pystac-client==0.3.2 in ./opt/miniconda3/envs/PROJ/lib/python3.10/site-packages (0.3.2)\n",
      "Requirement already satisfied: requests>=2.25 in ./opt/miniconda3/envs/PROJ/lib/python3.10/site-packages (from pystac-client==0.3.2) (2.27.1)\n",
      "Requirement already satisfied: pystac~=1.2.0 in ./opt/miniconda3/envs/PROJ/lib/python3.10/site-packages (from pystac-client==0.3.2) (1.2.0)\n",
      "Requirement already satisfied: python-dateutil>=2.7.0 in ./opt/miniconda3/envs/PROJ/lib/python3.10/site-packages (from pystac~=1.2.0->pystac-client==0.3.2) (2.8.2)\n",
      "Requirement already satisfied: urllib3<1.27,>=1.21.1 in ./opt/miniconda3/envs/PROJ/lib/python3.10/site-packages (from requests>=2.25->pystac-client==0.3.2) (1.26.9)\n",
      "Requirement already satisfied: charset-normalizer~=2.0.0 in ./opt/miniconda3/envs/PROJ/lib/python3.10/site-packages (from requests>=2.25->pystac-client==0.3.2) (2.0.12)\n",
      "Requirement already satisfied: certifi>=2017.4.17 in ./opt/miniconda3/envs/PROJ/lib/python3.10/site-packages (from requests>=2.25->pystac-client==0.3.2) (2022.5.18.1)\n",
      "Requirement already satisfied: idna<4,>=2.5 in ./opt/miniconda3/envs/PROJ/lib/python3.10/site-packages (from requests>=2.25->pystac-client==0.3.2) (3.3)\n",
      "Requirement already satisfied: six>=1.5 in ./opt/miniconda3/envs/PROJ/lib/python3.10/site-packages (from python-dateutil>=2.7.0->pystac~=1.2.0->pystac-client==0.3.2) (1.16.0)\n"
     ]
    }
   ],
   "source": [
    "!pip install pystac-client==0.3.2\n"
   ]
  },
  {
   "cell_type": "code",
   "execution_count": 2,
   "id": "d1405c06",
   "metadata": {},
   "outputs": [
    {
     "name": "stdout",
     "output_type": "stream",
     "text": [
      "Requirement already satisfied: rasterio in ./opt/miniconda3/envs/PROJ/lib/python3.10/site-packages (1.2.10)\n",
      "Requirement already satisfied: shapely in ./opt/miniconda3/envs/PROJ/lib/python3.10/site-packages (1.8.2)\n",
      "Requirement already satisfied: matplotlib in ./opt/miniconda3/envs/PROJ/lib/python3.10/site-packages (3.5.2)\n",
      "Requirement already satisfied: tqdm in ./opt/miniconda3/envs/PROJ/lib/python3.10/site-packages (4.64.0)\n",
      "Requirement already satisfied: cligj>=0.5 in ./opt/miniconda3/envs/PROJ/lib/python3.10/site-packages (from rasterio) (0.7.2)\n",
      "Requirement already satisfied: click>=4.0 in ./opt/miniconda3/envs/PROJ/lib/python3.10/site-packages (from rasterio) (8.1.3)\n",
      "Requirement already satisfied: click-plugins in ./opt/miniconda3/envs/PROJ/lib/python3.10/site-packages (from rasterio) (1.1.1)\n",
      "Requirement already satisfied: snuggs>=1.4.1 in ./opt/miniconda3/envs/PROJ/lib/python3.10/site-packages (from rasterio) (1.4.7)\n",
      "Requirement already satisfied: affine in ./opt/miniconda3/envs/PROJ/lib/python3.10/site-packages (from rasterio) (2.3.1)\n",
      "Requirement already satisfied: numpy in ./opt/miniconda3/envs/PROJ/lib/python3.10/site-packages (from rasterio) (1.22.3)\n",
      "Requirement already satisfied: certifi in ./opt/miniconda3/envs/PROJ/lib/python3.10/site-packages (from rasterio) (2022.5.18.1)\n",
      "Requirement already satisfied: attrs in ./opt/miniconda3/envs/PROJ/lib/python3.10/site-packages (from rasterio) (21.4.0)\n",
      "Requirement already satisfied: setuptools in ./opt/miniconda3/envs/PROJ/lib/python3.10/site-packages (from rasterio) (62.3.1)\n",
      "Requirement already satisfied: packaging>=20.0 in ./opt/miniconda3/envs/PROJ/lib/python3.10/site-packages (from matplotlib) (21.3)\n",
      "Requirement already satisfied: cycler>=0.10 in ./opt/miniconda3/envs/PROJ/lib/python3.10/site-packages (from matplotlib) (0.11.0)\n",
      "Requirement already satisfied: fonttools>=4.22.0 in ./opt/miniconda3/envs/PROJ/lib/python3.10/site-packages (from matplotlib) (4.33.3)\n",
      "Requirement already satisfied: pillow>=6.2.0 in ./opt/miniconda3/envs/PROJ/lib/python3.10/site-packages (from matplotlib) (9.1.1)\n",
      "Requirement already satisfied: pyparsing>=2.2.1 in ./opt/miniconda3/envs/PROJ/lib/python3.10/site-packages (from matplotlib) (3.0.9)\n",
      "Requirement already satisfied: python-dateutil>=2.7 in ./opt/miniconda3/envs/PROJ/lib/python3.10/site-packages (from matplotlib) (2.8.2)\n",
      "Requirement already satisfied: kiwisolver>=1.0.1 in ./opt/miniconda3/envs/PROJ/lib/python3.10/site-packages (from matplotlib) (1.4.2)\n",
      "Requirement already satisfied: six>=1.5 in ./opt/miniconda3/envs/PROJ/lib/python3.10/site-packages (from python-dateutil>=2.7->matplotlib) (1.16.0)\n"
     ]
    }
   ],
   "source": [
    "!pip install rasterio shapely matplotlib tqdm"
   ]
  },
  {
   "cell_type": "code",
   "execution_count": 4,
   "id": "8a359c3f",
   "metadata": {},
   "outputs": [],
   "source": [
    "import pystac_client\n"
   ]
  },
  {
   "cell_type": "code",
   "execution_count": 5,
   "id": "6c4fbc72",
   "metadata": {},
   "outputs": [],
   "source": [
    "parameters = dict(access_token='2fZYaNV0yVWzp7Qkq7atmK701x8sHRMVF7PSn42Mbd')\n",
    "service = pystac_client.Client.open('https://brazildatacube.dpi.inpe.br/stac/', parameters=parameters)"
   ]
  },
  {
   "cell_type": "code",
   "execution_count": 6,
   "id": "2af73f6b",
   "metadata": {},
   "outputs": [
    {
     "name": "stdout",
     "output_type": "stream",
     "text": [
      "<CollectionClient id=LCC_L8_30_1M_STK_PA-SPC-AC-NA-1>\n",
      "<CollectionClient id=LC8_DN-1>\n",
      "<CollectionClient id=CB4-MOSAIC-BRAZIL_64_3M_STK-1>\n",
      "<CollectionClient id=MOD13Q1-6>\n",
      "<CollectionClient id=LANDSAT-MOZ_30_1M_STK-1>\n",
      "<CollectionClient id=LC8_30_6M_MEDSTK-1>\n",
      "<CollectionClient id=LCC_S2_10_1M_STK_PA-SPC-AC-NA-1>\n",
      "<CollectionClient id=LCC_C4_64_1M_STK_PA-SPC-AC-NA-1>\n",
      "<CollectionClient id=LCC_C4_64_1M_STK_MT_PA-SPC-AC-NA-1>\n",
      "<CollectionClient id=LCC_C4_64_1M_STK_GO_PA-SPC-AC-NA-1>\n",
      "<CollectionClient id=LCC_C4_64_1M_STK_MT_RF_PA-SPC-AC-NA-1>\n",
      "<CollectionClient id=MYD13Q1-6>\n",
      "<CollectionClient id=S2_L2A-1>\n",
      "<CollectionClient id=KD_S2_20M_VISBANDS_CURUAI-1>\n",
      "<CollectionClient id=LCC_L8_30_16D_STK_Amazonia-TC-1>\n",
      "<CollectionClient id=LCC_L8_30_1M_STK_Cerrado-1>\n",
      "<CollectionClient id=CB4A-MOSAIC-PARAIBA_55_3M_STK-1>\n",
      "<CollectionClient id=LC8-MOSAIC-BRAZIL_30_6M_MEDSTK-1>\n",
      "<CollectionClient id=S2-MOSAIC-PARAIBA_10_3M_STK-1>\n",
      "<CollectionClient id=LCC_S2_10_16D_STK_Amazonia-1>\n",
      "<CollectionClient id=LCC_L8_30_16D_STK_Pantanal-1>\n",
      "<CollectionClient id=S2-SEN2COR_10_16D_STK-1>\n",
      "<CollectionClient id=LCC_L8_30_16D_STK_Cerrado-1>\n",
      "<CollectionClient id=S2_L1C-1>\n",
      "<CollectionClient id=LC8_SR-1>\n",
      "<CollectionClient id=CB4_64_16D_STK-1>\n",
      "<CollectionClient id=LC8_30_16D_STK-1>\n",
      "<CollectionClient id=CB4MUX_20_1M_STK-1>\n"
     ]
    }
   ],
   "source": [
    "for collection in service.get_collections():\n",
    "    print(collection)"
   ]
  },
  {
   "cell_type": "code",
   "execution_count": 7,
   "id": "7533071d",
   "metadata": {},
   "outputs": [
    {
     "data": {
      "text/plain": [
       "<CollectionClient id=CB4_64_16D_STK-1>"
      ]
     },
     "execution_count": 7,
     "metadata": {},
     "output_type": "execute_result"
    }
   ],
   "source": [
    "collection = service.get_collection('CB4_64_16D_STK-1')\n",
    "collection\n"
   ]
  },
  {
   "cell_type": "code",
   "execution_count": 8,
   "id": "e14dfc87",
   "metadata": {},
   "outputs": [
    {
     "data": {
      "text/plain": [
       "<generator object CollectionClient.get_items at 0x10a481850>"
      ]
     },
     "execution_count": 8,
     "metadata": {},
     "output_type": "execute_result"
    }
   ],
   "source": [
    "collection.get_items()\n"
   ]
  },
  {
   "cell_type": "code",
   "execution_count": 23,
   "id": "e059f533",
   "metadata": {},
   "outputs": [
    {
     "data": {
      "text/plain": [
       "<pystac_client.item_search.ItemSearch at 0x1119eb280>"
      ]
     },
     "execution_count": 23,
     "metadata": {},
     "output_type": "execute_result"
    }
   ],
   "source": [
    "item_search = service.search(bbox=(-46.62597656250001,-13.19716452328198,-45.03570556640626,-12.297068292853805),\n",
    "                             datetime='2019-08-01/2021-07-31',\n",
    "                             collections=['CB4_64_16D_STK-1'])\n",
    "item_search"
   ]
  },
  {
   "cell_type": "code",
   "execution_count": 24,
   "id": "13b5fc62",
   "metadata": {},
   "outputs": [
    {
     "data": {
      "text/plain": [
       "47"
      ]
     },
     "execution_count": 24,
     "metadata": {},
     "output_type": "execute_result"
    }
   ],
   "source": [
    "item_search.matched()\n"
   ]
  },
  {
   "cell_type": "code",
   "execution_count": 25,
   "id": "68353d42",
   "metadata": {},
   "outputs": [
    {
     "name": "stdout",
     "output_type": "stream",
     "text": [
      "<Item id=CB4_64_16D_STK_v001_022024_2021-07-28_2021-08-12>\n",
      "<Item id=CB4_64_16D_STK_v001_022024_2021-07-12_2021-07-27>\n",
      "<Item id=CB4_64_16D_STK_v001_022024_2021-06-26_2021-07-11>\n",
      "<Item id=CB4_64_16D_STK_v001_022024_2021-06-10_2021-06-25>\n",
      "<Item id=CB4_64_16D_STK_v001_022024_2021-05-25_2021-06-09>\n",
      "<Item id=CB4_64_16D_STK_v001_022024_2021-05-09_2021-05-24>\n",
      "<Item id=CB4_64_16D_STK_v001_022024_2021-04-23_2021-05-08>\n",
      "<Item id=CB4_64_16D_STK_v001_022024_2021-04-07_2021-04-22>\n",
      "<Item id=CB4_64_16D_STK_v001_022024_2021-03-22_2021-04-06>\n",
      "<Item id=CB4_64_16D_STK_v001_022024_2021-03-06_2021-03-21>\n",
      "<Item id=CB4_64_16D_STK_v001_022024_2021-02-18_2021-03-05>\n",
      "<Item id=CB4_64_16D_STK_v001_022024_2021-02-02_2021-02-17>\n",
      "<Item id=CB4_64_16D_STK_v001_022024_2021-01-17_2021-02-01>\n",
      "<Item id=CB4_64_16D_STK_v001_022024_2021-01-01_2021-01-16>\n",
      "<Item id=CB4_64_16D_STK_v001_022024_2020-12-18_2020-12-31>\n",
      "<Item id=CB4_64_16D_STK_v001_022024_2020-12-02_2020-12-17>\n",
      "<Item id=CB4_64_16D_STK_v001_022024_2020-11-16_2020-12-01>\n",
      "<Item id=CB4_64_16D_STK_v001_022024_2020-10-31_2020-11-15>\n",
      "<Item id=CB4_64_16D_STK_v001_022024_2020-10-15_2020-10-30>\n",
      "<Item id=CB4_64_16D_STK_v001_022024_2020-09-29_2020-10-14>\n",
      "<Item id=CB4_64_16D_STK_v001_022024_2020-09-13_2020-09-28>\n",
      "<Item id=CB4_64_16D_STK_v001_022024_2020-08-28_2020-09-12>\n",
      "<Item id=CB4_64_16D_STK_v001_022024_2020-08-12_2020-08-27>\n",
      "<Item id=CB4_64_16D_STK_v001_022024_2020-07-27_2020-08-11>\n",
      "<Item id=CB4_64_16D_STK_v001_022024_2020-07-11_2020-07-26>\n",
      "<Item id=CB4_64_16D_STK_v001_022024_2020-06-25_2020-07-10>\n",
      "<Item id=CB4_64_16D_STK_v001_022024_2020-06-09_2020-06-24>\n",
      "<Item id=CB4_64_16D_STK_v001_022024_2020-05-24_2020-06-08>\n",
      "<Item id=CB4_64_16D_STK_v001_022024_2020-05-08_2020-05-23>\n",
      "<Item id=CB4_64_16D_STK_v001_022024_2020-04-22_2020-05-07>\n",
      "<Item id=CB4_64_16D_STK_v001_022024_2020-04-06_2020-04-21>\n",
      "<Item id=CB4_64_16D_STK_v001_022024_2020-03-21_2020-04-05>\n",
      "<Item id=CB4_64_16D_STK_v001_022024_2020-03-05_2020-03-20>\n",
      "<Item id=CB4_64_16D_STK_v001_022024_2020-02-18_2020-03-04>\n",
      "<Item id=CB4_64_16D_STK_v001_022024_2020-02-02_2020-02-17>\n",
      "<Item id=CB4_64_16D_STK_v001_022024_2020-01-17_2020-02-01>\n",
      "<Item id=CB4_64_16D_STK_v001_022024_2020-01-01_2020-01-16>\n",
      "<Item id=CB4_64_16D_STK_v001_022024_2019-12-19_2019-12-31>\n",
      "<Item id=CB4_64_16D_STK_v001_022024_2019-12-03_2019-12-18>\n",
      "<Item id=CB4_64_16D_STK_v001_022024_2019-11-17_2019-12-02>\n",
      "<Item id=CB4_64_16D_STK_v001_022024_2019-11-01_2019-11-16>\n",
      "<Item id=CB4_64_16D_STK_v001_022024_2019-10-16_2019-10-31>\n",
      "<Item id=CB4_64_16D_STK_v001_022024_2019-09-30_2019-10-15>\n",
      "<Item id=CB4_64_16D_STK_v001_022024_2019-09-14_2019-09-29>\n",
      "<Item id=CB4_64_16D_STK_v001_022024_2019-08-29_2019-09-13>\n",
      "<Item id=CB4_64_16D_STK_v001_022024_2019-08-13_2019-08-28>\n",
      "<Item id=CB4_64_16D_STK_v001_022024_2019-07-28_2019-08-12>\n"
     ]
    }
   ],
   "source": [
    "for item in item_search.get_items():\n",
    "    print(item)\n"
   ]
  },
  {
   "cell_type": "code",
   "execution_count": 26,
   "id": "f85f0385",
   "metadata": {},
   "outputs": [],
   "source": [
    "assets = item.assets\n"
   ]
  },
  {
   "cell_type": "code",
   "execution_count": 27,
   "id": "9b9e3820",
   "metadata": {},
   "outputs": [
    {
     "name": "stdout",
     "output_type": "stream",
     "text": [
      "EVI\n",
      "NDVI\n",
      "CMASK\n",
      "BAND13\n",
      "BAND14\n",
      "BAND15\n",
      "BAND16\n",
      "CLEAROB\n",
      "TOTALOB\n",
      "thumbnail\n",
      "PROVENANCE\n"
     ]
    }
   ],
   "source": [
    "for k in assets.keys():\n",
    "    print(k)"
   ]
  },
  {
   "cell_type": "code",
   "execution_count": 28,
   "id": "fe99ac4a",
   "metadata": {},
   "outputs": [
    {
     "data": {
      "text/plain": [
       "<Asset href=https://brazildatacube.dpi.inpe.br/cubes/composed/CB4_64_16D_STK/v001/022024/2019-07-28_2019-08-12/CB4_64_16D_STK_v001_022024_2019-07-28_2019-08-12_BAND13.tif?access_token=2fZYaNV0yVWzp7Qkq7atmK701x8sHRMVF7PSn42Mbd>"
      ]
     },
     "execution_count": 28,
     "metadata": {},
     "output_type": "execute_result"
    }
   ],
   "source": [
    "blue_asset = assets['BAND13']\n",
    "blue_asset"
   ]
  },
  {
   "cell_type": "code",
   "execution_count": 29,
   "id": "fcea00b1",
   "metadata": {},
   "outputs": [
    {
     "name": "stdout",
     "output_type": "stream",
     "text": [
      "<Asset href=https://brazildatacube.dpi.inpe.br/cubes/composed/CB4_64_16D_STK/v001/022024/2019-07-28_2019-08-12/CB4_64_16D_STK_v001_022024_2019-07-28_2019-08-12_EVI.tif?access_token=2fZYaNV0yVWzp7Qkq7atmK701x8sHRMVF7PSn42Mbd>\n",
      "<Asset href=https://brazildatacube.dpi.inpe.br/cubes/composed/CB4_64_16D_STK/v001/022024/2019-07-28_2019-08-12/CB4_64_16D_STK_v001_022024_2019-07-28_2019-08-12_NDVI.tif?access_token=2fZYaNV0yVWzp7Qkq7atmK701x8sHRMVF7PSn42Mbd>\n",
      "<Asset href=https://brazildatacube.dpi.inpe.br/cubes/composed/CB4_64_16D_STK/v001/022024/2019-07-28_2019-08-12/CB4_64_16D_STK_v001_022024_2019-07-28_2019-08-12_CMASK.tif?access_token=2fZYaNV0yVWzp7Qkq7atmK701x8sHRMVF7PSn42Mbd>\n",
      "<Asset href=https://brazildatacube.dpi.inpe.br/cubes/composed/CB4_64_16D_STK/v001/022024/2019-07-28_2019-08-12/CB4_64_16D_STK_v001_022024_2019-07-28_2019-08-12_BAND13.tif?access_token=2fZYaNV0yVWzp7Qkq7atmK701x8sHRMVF7PSn42Mbd>\n",
      "<Asset href=https://brazildatacube.dpi.inpe.br/cubes/composed/CB4_64_16D_STK/v001/022024/2019-07-28_2019-08-12/CB4_64_16D_STK_v001_022024_2019-07-28_2019-08-12_BAND14.tif?access_token=2fZYaNV0yVWzp7Qkq7atmK701x8sHRMVF7PSn42Mbd>\n",
      "<Asset href=https://brazildatacube.dpi.inpe.br/cubes/composed/CB4_64_16D_STK/v001/022024/2019-07-28_2019-08-12/CB4_64_16D_STK_v001_022024_2019-07-28_2019-08-12_BAND15.tif?access_token=2fZYaNV0yVWzp7Qkq7atmK701x8sHRMVF7PSn42Mbd>\n",
      "<Asset href=https://brazildatacube.dpi.inpe.br/cubes/composed/CB4_64_16D_STK/v001/022024/2019-07-28_2019-08-12/CB4_64_16D_STK_v001_022024_2019-07-28_2019-08-12_BAND16.tif?access_token=2fZYaNV0yVWzp7Qkq7atmK701x8sHRMVF7PSn42Mbd>\n",
      "<Asset href=https://brazildatacube.dpi.inpe.br/cubes/composed/CB4_64_16D_STK/v001/022024/2019-07-28_2019-08-12/CB4_64_16D_STK_v001_022024_2019-07-28_2019-08-12_CLEAROB.tif?access_token=2fZYaNV0yVWzp7Qkq7atmK701x8sHRMVF7PSn42Mbd>\n",
      "<Asset href=https://brazildatacube.dpi.inpe.br/cubes/composed/CB4_64_16D_STK/v001/022024/2019-07-28_2019-08-12/CB4_64_16D_STK_v001_022024_2019-07-28_2019-08-12_TOTALOB.tif?access_token=2fZYaNV0yVWzp7Qkq7atmK701x8sHRMVF7PSn42Mbd>\n",
      "<Asset href=https://brazildatacube.dpi.inpe.br/cubes/composed/CB4_64_16D_STK/v001/022024/2019-07-28_2019-08-12/CB4_64_16D_STK_v001_022024_2019-07-28_2019-08-12.png?access_token=2fZYaNV0yVWzp7Qkq7atmK701x8sHRMVF7PSn42Mbd>\n",
      "<Asset href=https://brazildatacube.dpi.inpe.br/cubes/composed/CB4_64_16D_STK/v001/022024/2019-07-28_2019-08-12/CB4_64_16D_STK_v001_022024_2019-07-28_2019-08-12_PROVENANCE.tif?access_token=2fZYaNV0yVWzp7Qkq7atmK701x8sHRMVF7PSn42Mbd>\n"
     ]
    }
   ],
   "source": [
    "for asset in assets.values():\n",
    "    print(asset)"
   ]
  },
  {
   "cell_type": "code",
   "execution_count": 34,
   "id": "7e3101d7",
   "metadata": {},
   "outputs": [],
   "source": [
    "import rasterio"
   ]
  },
  {
   "cell_type": "code",
   "execution_count": 33,
   "id": "c7cf406a",
   "metadata": {},
   "outputs": [
    {
     "ename": "KeyError",
     "evalue": "'PROJ_LIB'",
     "output_type": "error",
     "traceback": [
      "\u001b[0;31m---------------------------------------------------------------------------\u001b[0m",
      "\u001b[0;31mKeyError\u001b[0m                                  Traceback (most recent call last)",
      "Input \u001b[0;32mIn [33]\u001b[0m, in \u001b[0;36m<cell line: 2>\u001b[0;34m()\u001b[0m\n\u001b[1;32m      1\u001b[0m \u001b[38;5;28;01mimport\u001b[39;00m \u001b[38;5;21;01mos\u001b[39;00m \n\u001b[0;32m----> 2\u001b[0m \u001b[38;5;28;01mdel\u001b[39;00m os\u001b[38;5;241m.\u001b[39menviron[\u001b[38;5;124m'\u001b[39m\u001b[38;5;124mPROJ_LIB\u001b[39m\u001b[38;5;124m'\u001b[39m]\n",
      "File \u001b[0;32m~/opt/miniconda3/envs/PROJ/lib/python3.10/os.py:695\u001b[0m, in \u001b[0;36m_Environ.__delitem__\u001b[0;34m(self, key)\u001b[0m\n\u001b[1;32m    692\u001b[0m     \u001b[38;5;28;01mdel\u001b[39;00m \u001b[38;5;28mself\u001b[39m\u001b[38;5;241m.\u001b[39m_data[encodedkey]\n\u001b[1;32m    693\u001b[0m \u001b[38;5;28;01mexcept\u001b[39;00m \u001b[38;5;167;01mKeyError\u001b[39;00m:\n\u001b[1;32m    694\u001b[0m     \u001b[38;5;66;03m# raise KeyError with the original key value\u001b[39;00m\n\u001b[0;32m--> 695\u001b[0m     \u001b[38;5;28;01mraise\u001b[39;00m \u001b[38;5;167;01mKeyError\u001b[39;00m(key) \u001b[38;5;28;01mfrom\u001b[39;00m \u001b[38;5;28mNone\u001b[39m\n",
      "\u001b[0;31mKeyError\u001b[0m: 'PROJ_LIB'"
     ]
    }
   ],
   "source": [
    "import os \n",
    "del os.environ['PROJ_LIB']"
   ]
  },
  {
   "cell_type": "code",
   "execution_count": 35,
   "id": "0bf78b43",
   "metadata": {},
   "outputs": [
    {
     "ename": "RasterioIOError",
     "evalue": "Read or write failed. CB4_64_16D_STK_v001_022024_2019-07-28_2019-08-12_BAND16.tif?access_token=2fZYaNV0yVWzp7Qkq7atmK701x8sHRMVF7PSn42Mbd, band 1: IReadBlock failed at X offset 6, Y offset 1: TIFFReadEncodedTile() failed.",
     "output_type": "error",
     "traceback": [
      "\u001b[0;31m---------------------------------------------------------------------------\u001b[0m",
      "\u001b[0;31mCPLE_AppDefinedError\u001b[0m                      Traceback (most recent call last)",
      "File \u001b[0;32mrasterio/_io.pyx:701\u001b[0m, in \u001b[0;36mrasterio._io.DatasetReaderBase._read\u001b[0;34m()\u001b[0m\n",
      "File \u001b[0;32mrasterio/shim_rasterioex.pxi:162\u001b[0m, in \u001b[0;36mrasterio._shim.io_multi_band\u001b[0;34m()\u001b[0m\n",
      "File \u001b[0;32mrasterio/_err.pyx:193\u001b[0m, in \u001b[0;36mrasterio._err.exc_wrap_int\u001b[0;34m()\u001b[0m\n",
      "\u001b[0;31mCPLE_AppDefinedError\u001b[0m: CB4_64_16D_STK_v001_022024_2019-07-28_2019-08-12_BAND16.tif?access_token=2fZYaNV0yVWzp7Qkq7atmK701x8sHRMVF7PSn42Mbd, band 1: IReadBlock failed at X offset 6, Y offset 1: TIFFReadEncodedTile() failed.",
      "\nDuring handling of the above exception, another exception occurred:\n",
      "\u001b[0;31mRasterioIOError\u001b[0m                           Traceback (most recent call last)",
      "Input \u001b[0;32mIn [35]\u001b[0m, in \u001b[0;36m<cell line: 1>\u001b[0;34m()\u001b[0m\n\u001b[1;32m      1\u001b[0m \u001b[38;5;28;01mwith\u001b[39;00m rasterio\u001b[38;5;241m.\u001b[39mopen(assets[\u001b[38;5;124m'\u001b[39m\u001b[38;5;124mBAND16\u001b[39m\u001b[38;5;124m'\u001b[39m]\u001b[38;5;241m.\u001b[39mhref) \u001b[38;5;28;01mas\u001b[39;00m nir_ds:\n\u001b[0;32m----> 2\u001b[0m     nir \u001b[38;5;241m=\u001b[39m \u001b[43mnir_ds\u001b[49m\u001b[38;5;241;43m.\u001b[39;49m\u001b[43mread\u001b[49m\u001b[43m(\u001b[49m\u001b[38;5;241;43m1\u001b[39;49m\u001b[43m)\u001b[49m\n",
      "File \u001b[0;32mrasterio/_io.pyx:367\u001b[0m, in \u001b[0;36mrasterio._io.DatasetReaderBase.read\u001b[0;34m()\u001b[0m\n",
      "File \u001b[0;32mrasterio/_io.pyx:704\u001b[0m, in \u001b[0;36mrasterio._io.DatasetReaderBase._read\u001b[0;34m()\u001b[0m\n",
      "\u001b[0;31mRasterioIOError\u001b[0m: Read or write failed. CB4_64_16D_STK_v001_022024_2019-07-28_2019-08-12_BAND16.tif?access_token=2fZYaNV0yVWzp7Qkq7atmK701x8sHRMVF7PSn42Mbd, band 1: IReadBlock failed at X offset 6, Y offset 1: TIFFReadEncodedTile() failed."
     ]
    }
   ],
   "source": [
    "with rasterio.open(assets['BAND16'].href) as nir_ds:\n",
    "    nir = nir_ds.read(1)"
   ]
  },
  {
   "cell_type": "code",
   "execution_count": null,
   "id": "2c88256c",
   "metadata": {},
   "outputs": [],
   "source": []
  },
  {
   "cell_type": "code",
   "execution_count": null,
   "id": "0e488549",
   "metadata": {},
   "outputs": [],
   "source": []
  },
  {
   "cell_type": "code",
   "execution_count": null,
   "id": "46d52d5a",
   "metadata": {},
   "outputs": [],
   "source": []
  },
  {
   "cell_type": "code",
   "execution_count": null,
   "id": "347c1a7a",
   "metadata": {},
   "outputs": [],
   "source": []
  },
  {
   "cell_type": "code",
   "execution_count": null,
   "id": "b02007f5",
   "metadata": {},
   "outputs": [],
   "source": []
  },
  {
   "cell_type": "code",
   "execution_count": null,
   "id": "0c6a308d",
   "metadata": {},
   "outputs": [],
   "source": []
  },
  {
   "cell_type": "code",
   "execution_count": null,
   "id": "7d02b24e",
   "metadata": {},
   "outputs": [],
   "source": []
  },
  {
   "cell_type": "code",
   "execution_count": null,
   "id": "7e743da3",
   "metadata": {},
   "outputs": [],
   "source": []
  },
  {
   "cell_type": "code",
   "execution_count": null,
   "id": "03f26d42",
   "metadata": {},
   "outputs": [],
   "source": []
  },
  {
   "cell_type": "code",
   "execution_count": null,
   "id": "9a8b7d17",
   "metadata": {},
   "outputs": [],
   "source": []
  },
  {
   "cell_type": "code",
   "execution_count": 8,
   "id": "70b7e68a",
   "metadata": {},
   "outputs": [
    {
     "name": "stdout",
     "output_type": "stream",
     "text": [
      "\u001b[33mDEPRECATION: Configuring installation scheme with distutils config files is deprecated and will no longer work in the near future. If you are using a Homebrew or Linuxbrew Python, please see discussion at https://github.com/Homebrew/homebrew-core/issues/76621\u001b[0m\u001b[33m\n",
      "\u001b[0mRequirement already satisfied: stac.py in /usr/local/lib/python3.9/site-packages (0.9.0.post13)\n",
      "Requirement already satisfied: Click>=7.0 in /usr/local/lib/python3.9/site-packages (from stac.py) (8.0.1)\n",
      "Requirement already satisfied: requests>=2.20 in /usr/local/lib/python3.9/site-packages (from stac.py) (2.26.0)\n",
      "Requirement already satisfied: jsonschema>=3.2 in /usr/local/lib/python3.9/site-packages (from stac.py) (3.2.0)\n",
      "Requirement already satisfied: Shapely<2,>=1.7 in /usr/local/lib/python3.9/site-packages (from stac.py) (1.8.1.post1)\n",
      "Requirement already satisfied: Jinja2>=2.11.1 in /usr/local/lib/python3.9/site-packages (from stac.py) (3.0.1)\n",
      "Requirement already satisfied: MarkupSafe>=2.0 in /usr/local/lib/python3.9/site-packages (from Jinja2>=2.11.1->stac.py) (2.0.1)\n",
      "Requirement already satisfied: setuptools in /usr/local/lib/python3.9/site-packages (from jsonschema>=3.2->stac.py) (62.1.0)\n",
      "Requirement already satisfied: attrs>=17.4.0 in /usr/local/lib/python3.9/site-packages (from jsonschema>=3.2->stac.py) (21.2.0)\n",
      "Requirement already satisfied: six>=1.11.0 in /usr/local/lib/python3.9/site-packages (from jsonschema>=3.2->stac.py) (1.16.0)\n",
      "Requirement already satisfied: pyrsistent>=0.14.0 in /usr/local/lib/python3.9/site-packages (from jsonschema>=3.2->stac.py) (0.18.0)\n",
      "Requirement already satisfied: certifi>=2017.4.17 in /usr/local/lib/python3.9/site-packages (from requests>=2.20->stac.py) (2021.5.30)\n",
      "Requirement already satisfied: idna<4,>=2.5 in /usr/local/lib/python3.9/site-packages (from requests>=2.20->stac.py) (3.2)\n",
      "Requirement already satisfied: urllib3<1.27,>=1.21.1 in /usr/local/lib/python3.9/site-packages (from requests>=2.20->stac.py) (1.26.6)\n",
      "Requirement already satisfied: charset-normalizer~=2.0.0 in /usr/local/lib/python3.9/site-packages (from requests>=2.20->stac.py) (2.0.4)\n",
      "\u001b[33mDEPRECATION: Configuring installation scheme with distutils config files is deprecated and will no longer work in the near future. If you are using a Homebrew or Linuxbrew Python, please see discussion at https://github.com/Homebrew/homebrew-core/issues/76621\u001b[0m\u001b[33m\n",
      "\u001b[0m"
     ]
    }
   ],
   "source": [
    "!pip install stac.py\n",
    "import stac\n",
    "import os\n",
    "import glob\n",
    "import subprocess\n",
    "from tqdm.notebook import tqdm\n",
    "import time\n",
    "import datetime\n",
    "import numpy as np"
   ]
  },
  {
   "cell_type": "code",
   "execution_count": 10,
   "id": "11113ca9",
   "metadata": {},
   "outputs": [
    {
     "ename": "ImportError",
     "evalue": "cannot import name 'STAC' from 'stac' (/Users/bonnymcclain/opt/miniconda3/envs/FAR/lib/python3.10/site-packages/stac/__init__.py)",
     "output_type": "error",
     "traceback": [
      "\u001b[0;31m---------------------------------------------------------------------------\u001b[0m",
      "\u001b[0;31mImportError\u001b[0m                               Traceback (most recent call last)",
      "\u001b[0;32m/var/folders/hv/rrx0n8mj291dq3qrfcb9x9bw0000gn/T/ipykernel_68179/4269264361.py\u001b[0m in \u001b[0;36m<cell line: 1>\u001b[0;34m()\u001b[0m\n\u001b[0;32m----> 1\u001b[0;31m \u001b[0;32mfrom\u001b[0m \u001b[0mstac\u001b[0m \u001b[0;32mimport\u001b[0m \u001b[0mSTAC\u001b[0m\u001b[0;34m\u001b[0m\u001b[0;34m\u001b[0m\u001b[0m\n\u001b[0m\u001b[1;32m      2\u001b[0m \u001b[0;34m\u001b[0m\u001b[0m\n\u001b[1;32m      3\u001b[0m \u001b[0mservice\u001b[0m \u001b[0;34m=\u001b[0m \u001b[0mstac\u001b[0m\u001b[0;34m.\u001b[0m\u001b[0mSTAC\u001b[0m\u001b[0;34m(\u001b[0m\u001b[0;34m\"https://brazildatacube.dpi.inpe.br/stac\"\u001b[0m\u001b[0;34m,\u001b[0m \u001b[0maccess_token\u001b[0m\u001b[0;34m=\u001b[0m\u001b[0;34m\"2fZYaNV0yVWzp7Qkq7atmK701x8sHRMVF7PSn42Mbd\"\u001b[0m\u001b[0;34m)\u001b[0m\u001b[0;34m\u001b[0m\u001b[0;34m\u001b[0m\u001b[0m\n\u001b[1;32m      4\u001b[0m \u001b[0;34m\u001b[0m\u001b[0m\n",
      "\u001b[0;31mImportError\u001b[0m: cannot import name 'STAC' from 'stac' (/Users/bonnymcclain/opt/miniconda3/envs/FAR/lib/python3.10/site-packages/stac/__init__.py)"
     ]
    }
   ],
   "source": [
    "from stac import STAC\n",
    "\n",
    "service = stac.STAC(\"https://brazildatacube.dpi.inpe.br/stac\", access_token=\"2fZYaNV0yVWzp7Qkq7atmK701x8sHRMVF7PSn42Mbd\")\n",
    "\n"
   ]
  },
  {
   "cell_type": "code",
   "execution_count": 4,
   "id": "27f31395",
   "metadata": {},
   "outputs": [
    {
     "ename": "AttributeError",
     "evalue": "module 'stac' has no attribute 'BDC'",
     "output_type": "error",
     "traceback": [
      "\u001b[0;31m---------------------------------------------------------------------------\u001b[0m",
      "\u001b[0;31mAttributeError\u001b[0m                            Traceback (most recent call last)",
      "\u001b[0;32m/var/folders/hv/rrx0n8mj291dq3qrfcb9x9bw0000gn/T/ipykernel_68179/3813208023.py\u001b[0m in \u001b[0;36m<cell line: 1>\u001b[0;34m()\u001b[0m\n\u001b[0;32m----> 1\u001b[0;31m \u001b[0mservice\u001b[0m \u001b[0;34m=\u001b[0m \u001b[0mstac\u001b[0m\u001b[0;34m.\u001b[0m\u001b[0mBDC\u001b[0m\u001b[0;34m(\u001b[0m\u001b[0;34m'https://brazildatacube.dpi.inpe.br/bonnymcclain/'\u001b[0m\u001b[0;34m,\u001b[0m \u001b[0maccess_token\u001b[0m\u001b[0;34m=\u001b[0m\u001b[0;34m'2fZYaNV0yVWzp7Qkq7atmK701x8sHRMVF7PSn42Mbd'\u001b[0m\u001b[0;34m)\u001b[0m\u001b[0;34m\u001b[0m\u001b[0;34m\u001b[0m\u001b[0m\n\u001b[0m",
      "\u001b[0;31mAttributeError\u001b[0m: module 'stac' has no attribute 'BDC'"
     ]
    }
   ],
   "source": [
    "service = stac.BDC('https://brazildatacube.dpi.inpe.br/bonnymcclain/', access_token='2fZYaNV0yVWzp7Qkq7atmK701x8sHRMVF7PSn42Mbd')\n"
   ]
  },
  {
   "cell_type": "code",
   "execution_count": null,
   "id": "d5d1d6c2",
   "metadata": {},
   "outputs": [],
   "source": []
  },
  {
   "cell_type": "code",
   "execution_count": null,
   "id": "0ecadb67",
   "metadata": {},
   "outputs": [],
   "source": []
  }
 ],
 "metadata": {
  "hide_input": false,
  "kernelspec": {
   "display_name": "PROJ",
   "language": "python",
   "name": "myenv"
  },
  "language_info": {
   "codemirror_mode": {
    "name": "ipython",
    "version": 3
   },
   "file_extension": ".py",
   "mimetype": "text/x-python",
   "name": "python",
   "nbconvert_exporter": "python",
   "pygments_lexer": "ipython3",
   "version": "3.10.4"
  },
  "toc": {
   "base_numbering": 1,
   "nav_menu": {},
   "number_sections": true,
   "sideBar": true,
   "skip_h1_title": false,
   "title_cell": "Table of Contents",
   "title_sidebar": "Contents",
   "toc_cell": false,
   "toc_position": {},
   "toc_section_display": true,
   "toc_window_display": false
  }
 },
 "nbformat": 4,
 "nbformat_minor": 5
}
