{
 "cells": [
  {
   "cell_type": "code",
   "execution_count": 1,
   "id": "149fafbc",
   "metadata": {},
   "outputs": [
    {
     "ename": "SyntaxError",
     "evalue": "invalid syntax (2307921295.py, line 1)",
     "output_type": "error",
     "traceback": [
      "\u001b[0;36m  Input \u001b[0;32mIn [1]\u001b[0;36m\u001b[0m\n\u001b[0;31m    From ipyleaflet import *\u001b[0m\n\u001b[0m         ^\u001b[0m\n\u001b[0;31mSyntaxError\u001b[0m\u001b[0;31m:\u001b[0m invalid syntax\n"
     ]
    }
   ],
   "source": [
    "From ipyleaflet import *\n",
    "m = Map(center=[48.8566, 2.3522], zoom=10, height=600, widescreen=False,basemaps=basemaps.Stamen.Terrain)\n",
    "m"
   ]
  },
  {
   "cell_type": "code",
   "execution_count": 2,
   "id": "a77256dd",
   "metadata": {},
   "outputs": [
    {
     "name": "stdout",
     "output_type": "stream",
     "text": [
      "Requirement already satisfied: leafmap in ./opt/miniconda3/envs/geo/lib/python3.9/site-packages (0.9.4)\n",
      "Requirement already satisfied: folium>=0.11.0 in ./opt/miniconda3/envs/geo/lib/python3.9/site-packages (from leafmap) (0.12.1.post1)\n",
      "Requirement already satisfied: numpy in ./opt/miniconda3/envs/geo/lib/python3.9/site-packages (from leafmap) (1.22.4)\n",
      "Requirement already satisfied: pyshp>=2.1.3 in ./opt/miniconda3/envs/geo/lib/python3.9/site-packages (from leafmap) (2.3.0)\n",
      "Requirement already satisfied: geojson in ./opt/miniconda3/envs/geo/lib/python3.9/site-packages (from leafmap) (2.5.0)\n",
      "Requirement already satisfied: colour in ./opt/miniconda3/envs/geo/lib/python3.9/site-packages (from leafmap) (0.1.5)\n",
      "Requirement already satisfied: whiteboxgui>=0.6.0 in ./opt/miniconda3/envs/geo/lib/python3.9/site-packages (from leafmap) (0.7.0)\n",
      "Requirement already satisfied: pandas in ./opt/miniconda3/envs/geo/lib/python3.9/site-packages (from leafmap) (1.4.2)\n",
      "Requirement already satisfied: mapclassify>=2.4.0 in ./opt/miniconda3/envs/geo/lib/python3.9/site-packages (from leafmap) (2.4.3)\n",
      "Requirement already satisfied: gdown in ./opt/miniconda3/envs/geo/lib/python3.9/site-packages (from leafmap) (4.4.0)\n",
      "Requirement already satisfied: jupyterlab>=3.0.0 in ./opt/miniconda3/envs/geo/lib/python3.9/site-packages (from leafmap) (3.4.3)\n",
      "Requirement already satisfied: ipyevents in ./opt/miniconda3/envs/geo/lib/python3.9/site-packages (from leafmap) (2.0.1)\n",
      "Requirement already satisfied: python-box in ./opt/miniconda3/envs/geo/lib/python3.9/site-packages (from leafmap) (6.0.2)\n",
      "Requirement already satisfied: pycrs in ./opt/miniconda3/envs/geo/lib/python3.9/site-packages (from leafmap) (1.0.2)\n",
      "Requirement already satisfied: ipysheet in ./opt/miniconda3/envs/geo/lib/python3.9/site-packages (from leafmap) (0.5.0)\n",
      "Requirement already satisfied: ipyfilechooser>=0.6.0 in ./opt/miniconda3/envs/geo/lib/python3.9/site-packages (from leafmap) (0.6.0)\n",
      "Requirement already satisfied: ipyleaflet in ./opt/miniconda3/envs/geo/lib/python3.9/site-packages (from leafmap) (0.16.0)\n",
      "Requirement already satisfied: bqplot in ./opt/miniconda3/envs/geo/lib/python3.9/site-packages (from leafmap) (0.12.33)\n",
      "Requirement already satisfied: matplotlib in ./opt/miniconda3/envs/geo/lib/python3.9/site-packages (from leafmap) (3.4.3)\n",
      "Requirement already satisfied: pystac-client in ./opt/miniconda3/envs/geo/lib/python3.9/site-packages (from leafmap) (0.4.0)\n",
      "Requirement already satisfied: xyzservices in ./opt/miniconda3/envs/geo/lib/python3.9/site-packages (from leafmap) (2022.4.0)\n",
      "Requirement already satisfied: requests in ./opt/miniconda3/envs/geo/lib/python3.9/site-packages (from folium>=0.11.0->leafmap) (2.28.0)\n",
      "Requirement already satisfied: jinja2>=2.9 in ./opt/miniconda3/envs/geo/lib/python3.9/site-packages (from folium>=0.11.0->leafmap) (3.0.3)\n",
      "Requirement already satisfied: branca>=0.3.0 in ./opt/miniconda3/envs/geo/lib/python3.9/site-packages (from folium>=0.11.0->leafmap) (0.4.2)\n",
      "Requirement already satisfied: ipywidgets in ./opt/miniconda3/envs/geo/lib/python3.9/site-packages (from ipyfilechooser>=0.6.0->leafmap) (7.7.0)\n",
      "Requirement already satisfied: packaging in ./opt/miniconda3/envs/geo/lib/python3.9/site-packages (from jupyterlab>=3.0.0->leafmap) (21.3)\n",
      "Requirement already satisfied: tornado>=6.1.0 in ./opt/miniconda3/envs/geo/lib/python3.9/site-packages (from jupyterlab>=3.0.0->leafmap) (6.1)\n",
      "Requirement already satisfied: ipython in ./opt/miniconda3/envs/geo/lib/python3.9/site-packages (from jupyterlab>=3.0.0->leafmap) (8.4.0)\n",
      "Requirement already satisfied: jupyterlab-server~=2.10 in ./opt/miniconda3/envs/geo/lib/python3.9/site-packages (from jupyterlab>=3.0.0->leafmap) (2.14.0)\n",
      "Requirement already satisfied: jupyter-server~=1.16 in ./opt/miniconda3/envs/geo/lib/python3.9/site-packages (from jupyterlab>=3.0.0->leafmap) (1.17.1)\n",
      "Requirement already satisfied: nbclassic~=0.2 in ./opt/miniconda3/envs/geo/lib/python3.9/site-packages (from jupyterlab>=3.0.0->leafmap) (0.3.7)\n",
      "Requirement already satisfied: jupyter-core in ./opt/miniconda3/envs/geo/lib/python3.9/site-packages (from jupyterlab>=3.0.0->leafmap) (4.10.0)\n",
      "Requirement already satisfied: scipy>=1.0 in ./opt/miniconda3/envs/geo/lib/python3.9/site-packages (from mapclassify>=2.4.0->leafmap) (1.8.1)\n",
      "Requirement already satisfied: networkx in ./opt/miniconda3/envs/geo/lib/python3.9/site-packages (from mapclassify>=2.4.0->leafmap) (2.8.4)\n",
      "Requirement already satisfied: scikit-learn in ./opt/miniconda3/envs/geo/lib/python3.9/site-packages (from mapclassify>=2.4.0->leafmap) (1.1.1)\n",
      "Requirement already satisfied: python-dateutil>=2.8.1 in ./opt/miniconda3/envs/geo/lib/python3.9/site-packages (from pandas->leafmap) (2.8.2)\n",
      "Requirement already satisfied: pytz>=2020.1 in ./opt/miniconda3/envs/geo/lib/python3.9/site-packages (from pandas->leafmap) (2022.1)\n",
      "Requirement already satisfied: ipytree in ./opt/miniconda3/envs/geo/lib/python3.9/site-packages (from whiteboxgui>=0.6.0->leafmap) (0.2.1)\n",
      "Requirement already satisfied: whitebox in ./opt/miniconda3/envs/geo/lib/python3.9/site-packages (from whiteboxgui>=0.6.0->leafmap) (2.1.2)\n",
      "Requirement already satisfied: traittypes>=0.0.6 in ./opt/miniconda3/envs/geo/lib/python3.9/site-packages (from bqplot->leafmap) (0.2.1)\n",
      "Requirement already satisfied: traitlets>=4.3.0 in ./opt/miniconda3/envs/geo/lib/python3.9/site-packages (from bqplot->leafmap) (5.3.0)\n",
      "Requirement already satisfied: tqdm in ./opt/miniconda3/envs/geo/lib/python3.9/site-packages (from gdown->leafmap) (4.64.0)\n",
      "Requirement already satisfied: beautifulsoup4 in ./opt/miniconda3/envs/geo/lib/python3.9/site-packages (from gdown->leafmap) (4.11.1)\n",
      "Requirement already satisfied: six in ./opt/miniconda3/envs/geo/lib/python3.9/site-packages (from gdown->leafmap) (1.16.0)\n",
      "Requirement already satisfied: filelock in ./opt/miniconda3/envs/geo/lib/python3.9/site-packages (from gdown->leafmap) (3.7.1)\n",
      "Requirement already satisfied: pyparsing>=2.2.1 in ./opt/miniconda3/envs/geo/lib/python3.9/site-packages (from matplotlib->leafmap) (3.0.9)\n",
      "Requirement already satisfied: pillow>=6.2.0 in ./opt/miniconda3/envs/geo/lib/python3.9/site-packages (from matplotlib->leafmap) (9.1.1)\n",
      "Requirement already satisfied: cycler>=0.10 in ./opt/miniconda3/envs/geo/lib/python3.9/site-packages (from matplotlib->leafmap) (0.11.0)\n",
      "Requirement already satisfied: kiwisolver>=1.0.1 in ./opt/miniconda3/envs/geo/lib/python3.9/site-packages (from matplotlib->leafmap) (1.4.3)\n",
      "Requirement already satisfied: pystac>=1.4.0 in ./opt/miniconda3/envs/geo/lib/python3.9/site-packages (from pystac-client->leafmap) (1.4.0)\n",
      "Requirement already satisfied: widgetsnbextension~=3.6.0 in ./opt/miniconda3/envs/geo/lib/python3.9/site-packages (from ipywidgets->ipyfilechooser>=0.6.0->leafmap) (3.6.0)\n",
      "Requirement already satisfied: jupyterlab-widgets>=1.0.0 in ./opt/miniconda3/envs/geo/lib/python3.9/site-packages (from ipywidgets->ipyfilechooser>=0.6.0->leafmap) (1.1.0)\n",
      "Requirement already satisfied: nbformat>=4.2.0 in ./opt/miniconda3/envs/geo/lib/python3.9/site-packages (from ipywidgets->ipyfilechooser>=0.6.0->leafmap) (5.4.0)\n",
      "Requirement already satisfied: ipykernel>=4.5.1 in ./opt/miniconda3/envs/geo/lib/python3.9/site-packages (from ipywidgets->ipyfilechooser>=0.6.0->leafmap) (6.15.0)\n",
      "Requirement already satisfied: ipython-genutils~=0.2.0 in ./opt/miniconda3/envs/geo/lib/python3.9/site-packages (from ipywidgets->ipyfilechooser>=0.6.0->leafmap) (0.2.0)\n",
      "Requirement already satisfied: matplotlib-inline in ./opt/miniconda3/envs/geo/lib/python3.9/site-packages (from ipython->jupyterlab>=3.0.0->leafmap) (0.1.3)\n",
      "Requirement already satisfied: prompt-toolkit!=3.0.0,!=3.0.1,<3.1.0,>=2.0.0 in ./opt/miniconda3/envs/geo/lib/python3.9/site-packages (from ipython->jupyterlab>=3.0.0->leafmap) (3.0.29)\n",
      "Requirement already satisfied: backcall in ./opt/miniconda3/envs/geo/lib/python3.9/site-packages (from ipython->jupyterlab>=3.0.0->leafmap) (0.2.0)\n",
      "Requirement already satisfied: setuptools>=18.5 in ./opt/miniconda3/envs/geo/lib/python3.9/site-packages (from ipython->jupyterlab>=3.0.0->leafmap) (62.3.4)\n",
      "Requirement already satisfied: stack-data in ./opt/miniconda3/envs/geo/lib/python3.9/site-packages (from ipython->jupyterlab>=3.0.0->leafmap) (0.3.0)\n",
      "Requirement already satisfied: appnope in ./opt/miniconda3/envs/geo/lib/python3.9/site-packages (from ipython->jupyterlab>=3.0.0->leafmap) (0.1.3)\n",
      "Requirement already satisfied: pygments>=2.4.0 in ./opt/miniconda3/envs/geo/lib/python3.9/site-packages (from ipython->jupyterlab>=3.0.0->leafmap) (2.12.0)\n",
      "Requirement already satisfied: decorator in ./opt/miniconda3/envs/geo/lib/python3.9/site-packages (from ipython->jupyterlab>=3.0.0->leafmap) (5.1.1)\n",
      "Requirement already satisfied: pexpect>4.3 in ./opt/miniconda3/envs/geo/lib/python3.9/site-packages (from ipython->jupyterlab>=3.0.0->leafmap) (4.8.0)\n",
      "Requirement already satisfied: jedi>=0.16 in ./opt/miniconda3/envs/geo/lib/python3.9/site-packages (from ipython->jupyterlab>=3.0.0->leafmap) (0.18.1)\n",
      "Requirement already satisfied: pickleshare in ./opt/miniconda3/envs/geo/lib/python3.9/site-packages (from ipython->jupyterlab>=3.0.0->leafmap) (0.7.5)\n"
     ]
    },
    {
     "name": "stdout",
     "output_type": "stream",
     "text": [
      "Requirement already satisfied: MarkupSafe>=2.0 in ./opt/miniconda3/envs/geo/lib/python3.9/site-packages (from jinja2>=2.9->folium>=0.11.0->leafmap) (2.1.1)\n",
      "Requirement already satisfied: anyio<4,>=3.1.0 in ./opt/miniconda3/envs/geo/lib/python3.9/site-packages (from jupyter-server~=1.16->jupyterlab>=3.0.0->leafmap) (3.6.1)\n",
      "Requirement already satisfied: prometheus-client in ./opt/miniconda3/envs/geo/lib/python3.9/site-packages (from jupyter-server~=1.16->jupyterlab>=3.0.0->leafmap) (0.14.1)\n",
      "Requirement already satisfied: websocket-client in ./opt/miniconda3/envs/geo/lib/python3.9/site-packages (from jupyter-server~=1.16->jupyterlab>=3.0.0->leafmap) (1.3.2)\n",
      "Requirement already satisfied: nbconvert>=6.4.4 in ./opt/miniconda3/envs/geo/lib/python3.9/site-packages (from jupyter-server~=1.16->jupyterlab>=3.0.0->leafmap) (6.5.0)\n",
      "Requirement already satisfied: argon2-cffi in ./opt/miniconda3/envs/geo/lib/python3.9/site-packages (from jupyter-server~=1.16->jupyterlab>=3.0.0->leafmap) (21.1.0)\n",
      "Requirement already satisfied: jupyter-client>=6.1.12 in ./opt/miniconda3/envs/geo/lib/python3.9/site-packages (from jupyter-server~=1.16->jupyterlab>=3.0.0->leafmap) (7.3.4)\n",
      "Requirement already satisfied: terminado>=0.8.3 in ./opt/miniconda3/envs/geo/lib/python3.9/site-packages (from jupyter-server~=1.16->jupyterlab>=3.0.0->leafmap) (0.15.0)\n",
      "Requirement already satisfied: Send2Trash in ./opt/miniconda3/envs/geo/lib/python3.9/site-packages (from jupyter-server~=1.16->jupyterlab>=3.0.0->leafmap) (1.8.0)\n",
      "Requirement already satisfied: pyzmq>=17 in ./opt/miniconda3/envs/geo/lib/python3.9/site-packages (from jupyter-server~=1.16->jupyterlab>=3.0.0->leafmap) (23.1.0)\n",
      "Requirement already satisfied: json5 in ./opt/miniconda3/envs/geo/lib/python3.9/site-packages (from jupyterlab-server~=2.10->jupyterlab>=3.0.0->leafmap) (0.9.5)\n",
      "Requirement already satisfied: jsonschema>=3.0.1 in ./opt/miniconda3/envs/geo/lib/python3.9/site-packages (from jupyterlab-server~=2.10->jupyterlab>=3.0.0->leafmap) (4.6.0)\n",
      "Requirement already satisfied: babel in ./opt/miniconda3/envs/geo/lib/python3.9/site-packages (from jupyterlab-server~=2.10->jupyterlab>=3.0.0->leafmap) (2.10.3)\n",
      "Requirement already satisfied: importlib-metadata>=3.6 in ./opt/miniconda3/envs/geo/lib/python3.9/site-packages (from jupyterlab-server~=2.10->jupyterlab>=3.0.0->leafmap) (4.11.4)\n",
      "Requirement already satisfied: notebook-shim>=0.1.0 in ./opt/miniconda3/envs/geo/lib/python3.9/site-packages (from nbclassic~=0.2->jupyterlab>=3.0.0->leafmap) (0.1.0)\n",
      "Requirement already satisfied: notebook<7 in ./opt/miniconda3/envs/geo/lib/python3.9/site-packages (from nbclassic~=0.2->jupyterlab>=3.0.0->leafmap) (6.4.12)\n",
      "Requirement already satisfied: certifi>=2017.4.17 in ./opt/miniconda3/envs/geo/lib/python3.9/site-packages (from requests->folium>=0.11.0->leafmap) (2022.6.15)\n",
      "Requirement already satisfied: urllib3<1.27,>=1.21.1 in ./opt/miniconda3/envs/geo/lib/python3.9/site-packages (from requests->folium>=0.11.0->leafmap) (1.26.9)\n",
      "Requirement already satisfied: charset-normalizer~=2.0.0 in ./opt/miniconda3/envs/geo/lib/python3.9/site-packages (from requests->folium>=0.11.0->leafmap) (2.0.12)\n",
      "Requirement already satisfied: idna<4,>=2.5 in ./opt/miniconda3/envs/geo/lib/python3.9/site-packages (from requests->folium>=0.11.0->leafmap) (3.3)\n",
      "Requirement already satisfied: soupsieve>1.2 in ./opt/miniconda3/envs/geo/lib/python3.9/site-packages (from beautifulsoup4->gdown->leafmap) (2.3.1)\n",
      "Requirement already satisfied: PySocks!=1.5.7,>=1.5.6 in ./opt/miniconda3/envs/geo/lib/python3.9/site-packages (from requests->folium>=0.11.0->leafmap) (1.7.1)\n",
      "Requirement already satisfied: threadpoolctl>=2.0.0 in ./opt/miniconda3/envs/geo/lib/python3.9/site-packages (from scikit-learn->mapclassify>=2.4.0->leafmap) (3.1.0)\n",
      "Requirement already satisfied: joblib>=1.0.0 in ./opt/miniconda3/envs/geo/lib/python3.9/site-packages (from scikit-learn->mapclassify>=2.4.0->leafmap) (1.1.0)\n",
      "Requirement already satisfied: Click>=6.0 in ./opt/miniconda3/envs/geo/lib/python3.9/site-packages (from whitebox->whiteboxgui>=0.6.0->leafmap) (8.1.3)\n",
      "Requirement already satisfied: sniffio>=1.1 in ./opt/miniconda3/envs/geo/lib/python3.9/site-packages (from anyio<4,>=3.1.0->jupyter-server~=1.16->jupyterlab>=3.0.0->leafmap) (1.2.0)\n",
      "Requirement already satisfied: zipp>=0.5 in ./opt/miniconda3/envs/geo/lib/python3.9/site-packages (from importlib-metadata>=3.6->jupyterlab-server~=2.10->jupyterlab>=3.0.0->leafmap) (3.8.0)\n",
      "Requirement already satisfied: psutil in ./opt/miniconda3/envs/geo/lib/python3.9/site-packages (from ipykernel>=4.5.1->ipywidgets->ipyfilechooser>=0.6.0->leafmap) (5.9.1)\n",
      "Requirement already satisfied: nest-asyncio in ./opt/miniconda3/envs/geo/lib/python3.9/site-packages (from ipykernel>=4.5.1->ipywidgets->ipyfilechooser>=0.6.0->leafmap) (1.5.5)\n",
      "Requirement already satisfied: debugpy>=1.0 in ./opt/miniconda3/envs/geo/lib/python3.9/site-packages (from ipykernel>=4.5.1->ipywidgets->ipyfilechooser>=0.6.0->leafmap) (1.6.0)\n",
      "Requirement already satisfied: parso<0.9.0,>=0.8.0 in ./opt/miniconda3/envs/geo/lib/python3.9/site-packages (from jedi>=0.16->ipython->jupyterlab>=3.0.0->leafmap) (0.8.3)\n",
      "Requirement already satisfied: attrs>=17.4.0 in ./opt/miniconda3/envs/geo/lib/python3.9/site-packages (from jsonschema>=3.0.1->jupyterlab-server~=2.10->jupyterlab>=3.0.0->leafmap) (21.4.0)\n",
      "Requirement already satisfied: pyrsistent!=0.17.0,!=0.17.1,!=0.17.2,>=0.14.0 in ./opt/miniconda3/envs/geo/lib/python3.9/site-packages (from jsonschema>=3.0.1->jupyterlab-server~=2.10->jupyterlab>=3.0.0->leafmap) (0.18.1)\n",
      "Requirement already satisfied: entrypoints in ./opt/miniconda3/envs/geo/lib/python3.9/site-packages (from jupyter-client>=6.1.12->jupyter-server~=1.16->jupyterlab>=3.0.0->leafmap) (0.4)\n",
      "Requirement already satisfied: mistune<2,>=0.8.1 in ./opt/miniconda3/envs/geo/lib/python3.9/site-packages (from nbconvert>=6.4.4->jupyter-server~=1.16->jupyterlab>=3.0.0->leafmap) (0.8.4)\n",
      "Requirement already satisfied: defusedxml in ./opt/miniconda3/envs/geo/lib/python3.9/site-packages (from nbconvert>=6.4.4->jupyter-server~=1.16->jupyterlab>=3.0.0->leafmap) (0.7.1)\n",
      "Requirement already satisfied: jupyterlab-pygments in ./opt/miniconda3/envs/geo/lib/python3.9/site-packages (from nbconvert>=6.4.4->jupyter-server~=1.16->jupyterlab>=3.0.0->leafmap) (0.2.2)\n",
      "Requirement already satisfied: tinycss2 in ./opt/miniconda3/envs/geo/lib/python3.9/site-packages (from nbconvert>=6.4.4->jupyter-server~=1.16->jupyterlab>=3.0.0->leafmap) (1.1.1)\n",
      "Requirement already satisfied: pandocfilters>=1.4.1 in ./opt/miniconda3/envs/geo/lib/python3.9/site-packages (from nbconvert>=6.4.4->jupyter-server~=1.16->jupyterlab>=3.0.0->leafmap) (1.5.0)\n",
      "Requirement already satisfied: bleach in ./opt/miniconda3/envs/geo/lib/python3.9/site-packages (from nbconvert>=6.4.4->jupyter-server~=1.16->jupyterlab>=3.0.0->leafmap) (5.0.0)\n",
      "Requirement already satisfied: nbclient>=0.5.0 in ./opt/miniconda3/envs/geo/lib/python3.9/site-packages (from nbconvert>=6.4.4->jupyter-server~=1.16->jupyterlab>=3.0.0->leafmap) (0.5.13)\n",
      "Requirement already satisfied: fastjsonschema in ./opt/miniconda3/envs/geo/lib/python3.9/site-packages (from nbformat>=4.2.0->ipywidgets->ipyfilechooser>=0.6.0->leafmap) (2.15.3)\n",
      "Requirement already satisfied: ptyprocess>=0.5 in ./opt/miniconda3/envs/geo/lib/python3.9/site-packages (from pexpect>4.3->ipython->jupyterlab>=3.0.0->leafmap) (0.7.0)\n",
      "Requirement already satisfied: wcwidth in ./opt/miniconda3/envs/geo/lib/python3.9/site-packages (from prompt-toolkit!=3.0.0,!=3.0.1,<3.1.0,>=2.0.0->ipython->jupyterlab>=3.0.0->leafmap) (0.2.5)\n",
      "Requirement already satisfied: cffi>=1.0.0 in ./opt/miniconda3/envs/geo/lib/python3.9/site-packages (from argon2-cffi->jupyter-server~=1.16->jupyterlab>=3.0.0->leafmap) (1.15.0)\n",
      "Requirement already satisfied: executing in ./opt/miniconda3/envs/geo/lib/python3.9/site-packages (from stack-data->ipython->jupyterlab>=3.0.0->leafmap) (0.8.3)\n",
      "Requirement already satisfied: pure-eval in ./opt/miniconda3/envs/geo/lib/python3.9/site-packages (from stack-data->ipython->jupyterlab>=3.0.0->leafmap) (0.2.2)\n",
      "Requirement already satisfied: asttokens in ./opt/miniconda3/envs/geo/lib/python3.9/site-packages (from stack-data->ipython->jupyterlab>=3.0.0->leafmap) (2.0.5)\n"
     ]
    },
    {
     "name": "stdout",
     "output_type": "stream",
     "text": [
      "Requirement already satisfied: pycparser in ./opt/miniconda3/envs/geo/lib/python3.9/site-packages (from cffi>=1.0.0->argon2-cffi->jupyter-server~=1.16->jupyterlab>=3.0.0->leafmap) (2.21)\n",
      "Requirement already satisfied: webencodings in ./opt/miniconda3/envs/geo/lib/python3.9/site-packages (from bleach->nbconvert>=6.4.4->jupyter-server~=1.16->jupyterlab>=3.0.0->leafmap) (0.5.1)\n"
     ]
    }
   ],
   "source": [
    "!pip install leafmap"
   ]
  },
  {
   "cell_type": "code",
   "execution_count": 3,
   "id": "ed6fe3d3",
   "metadata": {},
   "outputs": [
    {
     "ename": "SyntaxError",
     "evalue": "invalid syntax (2307921295.py, line 1)",
     "output_type": "error",
     "traceback": [
      "\u001b[0;36m  Input \u001b[0;32mIn [3]\u001b[0;36m\u001b[0m\n\u001b[0;31m    From ipyleaflet import *\u001b[0m\n\u001b[0m         ^\u001b[0m\n\u001b[0;31mSyntaxError\u001b[0m\u001b[0;31m:\u001b[0m invalid syntax\n"
     ]
    }
   ],
   "source": [
    "From ipyleaflet import *\n",
    "m = Map(center=[48.8566, 2.3522], zoom=10, height=600, widescreen=False,basemaps=basemaps.Stamen.Terrain)\n",
    "m"
   ]
  },
  {
   "cell_type": "code",
   "execution_count": 26,
   "id": "999945f9",
   "metadata": {},
   "outputs": [],
   "source": [
    "import leafmap"
   ]
  },
  {
   "cell_type": "code",
   "execution_count": 29,
   "id": "c95750e1",
   "metadata": {},
   "outputs": [],
   "source": [
    "import keplergl"
   ]
  },
  {
   "cell_type": "code",
   "execution_count": 30,
   "id": "550a1efd",
   "metadata": {},
   "outputs": [
    {
     "data": {
      "application/vnd.jupyter.widget-view+json": {
       "model_id": "62b7538903db4070af174ccfbac67762",
       "version_major": 2,
       "version_minor": 0
      },
      "text/plain": [
       "Map(center=[20, 0], controls=(ZoomControl(options=['position', 'zoom_in_text', 'zoom_in_title', 'zoom_out_text…"
      ]
     },
     "metadata": {},
     "output_type": "display_data"
    }
   ],
   "source": [
    "m = leafmap.Map()\n",
    "m"
   ]
  },
  {
   "cell_type": "code",
   "execution_count": 33,
   "id": "1da52b06",
   "metadata": {
    "scrolled": false
   },
   "outputs": [
    {
     "name": "stdout",
     "output_type": "stream",
     "text": [
      "Requirement already satisfied: ipyleaflet in ./opt/miniconda3/envs/geo/lib/python3.9/site-packages (0.16.0)\n",
      "Requirement already satisfied: ipywidgets<8,>=7.6.0 in ./opt/miniconda3/envs/geo/lib/python3.9/site-packages (from ipyleaflet) (7.7.0)\n",
      "Requirement already satisfied: xyzservices>=2021.8.1 in ./opt/miniconda3/envs/geo/lib/python3.9/site-packages (from ipyleaflet) (2022.4.0)\n",
      "Requirement already satisfied: traittypes<3,>=0.2.1 in ./opt/miniconda3/envs/geo/lib/python3.9/site-packages (from ipyleaflet) (0.2.1)\n",
      "Requirement already satisfied: jupyterlab-widgets>=1.0.0 in ./opt/miniconda3/envs/geo/lib/python3.9/site-packages (from ipywidgets<8,>=7.6.0->ipyleaflet) (1.1.0)\n",
      "Requirement already satisfied: nbformat>=4.2.0 in ./opt/miniconda3/envs/geo/lib/python3.9/site-packages (from ipywidgets<8,>=7.6.0->ipyleaflet) (5.4.0)\n",
      "Requirement already satisfied: ipython>=4.0.0 in ./opt/miniconda3/envs/geo/lib/python3.9/site-packages (from ipywidgets<8,>=7.6.0->ipyleaflet) (8.4.0)\n",
      "Requirement already satisfied: traitlets>=4.3.1 in ./opt/miniconda3/envs/geo/lib/python3.9/site-packages (from ipywidgets<8,>=7.6.0->ipyleaflet) (5.3.0)\n",
      "Requirement already satisfied: widgetsnbextension~=3.6.0 in ./opt/miniconda3/envs/geo/lib/python3.9/site-packages (from ipywidgets<8,>=7.6.0->ipyleaflet) (3.6.0)\n",
      "Requirement already satisfied: ipykernel>=4.5.1 in ./opt/miniconda3/envs/geo/lib/python3.9/site-packages (from ipywidgets<8,>=7.6.0->ipyleaflet) (6.15.0)\n",
      "Requirement already satisfied: ipython-genutils~=0.2.0 in ./opt/miniconda3/envs/geo/lib/python3.9/site-packages (from ipywidgets<8,>=7.6.0->ipyleaflet) (0.2.0)\n",
      "Requirement already satisfied: jupyter-client>=6.1.12 in ./opt/miniconda3/envs/geo/lib/python3.9/site-packages (from ipykernel>=4.5.1->ipywidgets<8,>=7.6.0->ipyleaflet) (7.3.4)\n",
      "Requirement already satisfied: psutil in ./opt/miniconda3/envs/geo/lib/python3.9/site-packages (from ipykernel>=4.5.1->ipywidgets<8,>=7.6.0->ipyleaflet) (5.9.1)\n",
      "Requirement already satisfied: tornado>=6.1 in ./opt/miniconda3/envs/geo/lib/python3.9/site-packages (from ipykernel>=4.5.1->ipywidgets<8,>=7.6.0->ipyleaflet) (6.1)\n",
      "Requirement already satisfied: pyzmq>=17 in ./opt/miniconda3/envs/geo/lib/python3.9/site-packages (from ipykernel>=4.5.1->ipywidgets<8,>=7.6.0->ipyleaflet) (23.1.0)\n",
      "Requirement already satisfied: appnope in ./opt/miniconda3/envs/geo/lib/python3.9/site-packages (from ipykernel>=4.5.1->ipywidgets<8,>=7.6.0->ipyleaflet) (0.1.3)\n",
      "Requirement already satisfied: matplotlib-inline>=0.1 in ./opt/miniconda3/envs/geo/lib/python3.9/site-packages (from ipykernel>=4.5.1->ipywidgets<8,>=7.6.0->ipyleaflet) (0.1.3)\n",
      "Requirement already satisfied: packaging in ./opt/miniconda3/envs/geo/lib/python3.9/site-packages (from ipykernel>=4.5.1->ipywidgets<8,>=7.6.0->ipyleaflet) (21.3)\n",
      "Requirement already satisfied: debugpy>=1.0 in ./opt/miniconda3/envs/geo/lib/python3.9/site-packages (from ipykernel>=4.5.1->ipywidgets<8,>=7.6.0->ipyleaflet) (1.6.0)\n",
      "Requirement already satisfied: nest-asyncio in ./opt/miniconda3/envs/geo/lib/python3.9/site-packages (from ipykernel>=4.5.1->ipywidgets<8,>=7.6.0->ipyleaflet) (1.5.5)\n",
      "Requirement already satisfied: pickleshare in ./opt/miniconda3/envs/geo/lib/python3.9/site-packages (from ipython>=4.0.0->ipywidgets<8,>=7.6.0->ipyleaflet) (0.7.5)\n",
      "Requirement already satisfied: stack-data in ./opt/miniconda3/envs/geo/lib/python3.9/site-packages (from ipython>=4.0.0->ipywidgets<8,>=7.6.0->ipyleaflet) (0.3.0)\n",
      "Requirement already satisfied: pexpect>4.3 in ./opt/miniconda3/envs/geo/lib/python3.9/site-packages (from ipython>=4.0.0->ipywidgets<8,>=7.6.0->ipyleaflet) (4.8.0)\n",
      "Requirement already satisfied: pygments>=2.4.0 in ./opt/miniconda3/envs/geo/lib/python3.9/site-packages (from ipython>=4.0.0->ipywidgets<8,>=7.6.0->ipyleaflet) (2.12.0)\n",
      "Requirement already satisfied: setuptools>=18.5 in ./opt/miniconda3/envs/geo/lib/python3.9/site-packages (from ipython>=4.0.0->ipywidgets<8,>=7.6.0->ipyleaflet) (62.3.4)\n",
      "Requirement already satisfied: backcall in ./opt/miniconda3/envs/geo/lib/python3.9/site-packages (from ipython>=4.0.0->ipywidgets<8,>=7.6.0->ipyleaflet) (0.2.0)\n",
      "Requirement already satisfied: prompt-toolkit!=3.0.0,!=3.0.1,<3.1.0,>=2.0.0 in ./opt/miniconda3/envs/geo/lib/python3.9/site-packages (from ipython>=4.0.0->ipywidgets<8,>=7.6.0->ipyleaflet) (3.0.29)\n",
      "Requirement already satisfied: decorator in ./opt/miniconda3/envs/geo/lib/python3.9/site-packages (from ipython>=4.0.0->ipywidgets<8,>=7.6.0->ipyleaflet) (5.1.1)\n",
      "Requirement already satisfied: jedi>=0.16 in ./opt/miniconda3/envs/geo/lib/python3.9/site-packages (from ipython>=4.0.0->ipywidgets<8,>=7.6.0->ipyleaflet) (0.18.1)\n",
      "Requirement already satisfied: fastjsonschema in ./opt/miniconda3/envs/geo/lib/python3.9/site-packages (from nbformat>=4.2.0->ipywidgets<8,>=7.6.0->ipyleaflet) (2.15.3)\n",
      "Requirement already satisfied: jsonschema>=2.6 in ./opt/miniconda3/envs/geo/lib/python3.9/site-packages (from nbformat>=4.2.0->ipywidgets<8,>=7.6.0->ipyleaflet) (4.6.0)\n",
      "Requirement already satisfied: jupyter-core in ./opt/miniconda3/envs/geo/lib/python3.9/site-packages (from nbformat>=4.2.0->ipywidgets<8,>=7.6.0->ipyleaflet) (4.10.0)\n",
      "Requirement already satisfied: notebook>=4.4.1 in ./opt/miniconda3/envs/geo/lib/python3.9/site-packages (from widgetsnbextension~=3.6.0->ipywidgets<8,>=7.6.0->ipyleaflet) (6.4.12)\n",
      "Requirement already satisfied: parso<0.9.0,>=0.8.0 in ./opt/miniconda3/envs/geo/lib/python3.9/site-packages (from jedi>=0.16->ipython>=4.0.0->ipywidgets<8,>=7.6.0->ipyleaflet) (0.8.3)\n",
      "Requirement already satisfied: attrs>=17.4.0 in ./opt/miniconda3/envs/geo/lib/python3.9/site-packages (from jsonschema>=2.6->nbformat>=4.2.0->ipywidgets<8,>=7.6.0->ipyleaflet) (21.4.0)\n",
      "Requirement already satisfied: pyrsistent!=0.17.0,!=0.17.1,!=0.17.2,>=0.14.0 in ./opt/miniconda3/envs/geo/lib/python3.9/site-packages (from jsonschema>=2.6->nbformat>=4.2.0->ipywidgets<8,>=7.6.0->ipyleaflet) (0.18.1)\n",
      "Requirement already satisfied: python-dateutil>=2.8.2 in ./opt/miniconda3/envs/geo/lib/python3.9/site-packages (from jupyter-client>=6.1.12->ipykernel>=4.5.1->ipywidgets<8,>=7.6.0->ipyleaflet) (2.8.2)\n",
      "Requirement already satisfied: entrypoints in ./opt/miniconda3/envs/geo/lib/python3.9/site-packages (from jupyter-client>=6.1.12->ipykernel>=4.5.1->ipywidgets<8,>=7.6.0->ipyleaflet) (0.4)\n",
      "Requirement already satisfied: Send2Trash>=1.8.0 in ./opt/miniconda3/envs/geo/lib/python3.9/site-packages (from notebook>=4.4.1->widgetsnbextension~=3.6.0->ipywidgets<8,>=7.6.0->ipyleaflet) (1.8.0)\n",
      "Requirement already satisfied: jinja2 in ./opt/miniconda3/envs/geo/lib/python3.9/site-packages (from notebook>=4.4.1->widgetsnbextension~=3.6.0->ipywidgets<8,>=7.6.0->ipyleaflet) (3.0.3)\n",
      "Requirement already satisfied: argon2-cffi in ./opt/miniconda3/envs/geo/lib/python3.9/site-packages (from notebook>=4.4.1->widgetsnbextension~=3.6.0->ipywidgets<8,>=7.6.0->ipyleaflet) (21.1.0)\n",
      "Requirement already satisfied: prometheus-client in ./opt/miniconda3/envs/geo/lib/python3.9/site-packages (from notebook>=4.4.1->widgetsnbextension~=3.6.0->ipywidgets<8,>=7.6.0->ipyleaflet) (0.14.1)\n",
      "Requirement already satisfied: nbconvert>=5 in ./opt/miniconda3/envs/geo/lib/python3.9/site-packages (from notebook>=4.4.1->widgetsnbextension~=3.6.0->ipywidgets<8,>=7.6.0->ipyleaflet) (6.5.0)\n",
      "Requirement already satisfied: terminado>=0.8.3 in ./opt/miniconda3/envs/geo/lib/python3.9/site-packages (from notebook>=4.4.1->widgetsnbextension~=3.6.0->ipywidgets<8,>=7.6.0->ipyleaflet) (0.15.0)\n",
      "Requirement already satisfied: ptyprocess>=0.5 in ./opt/miniconda3/envs/geo/lib/python3.9/site-packages (from pexpect>4.3->ipython>=4.0.0->ipywidgets<8,>=7.6.0->ipyleaflet) (0.7.0)\n",
      "Requirement already satisfied: wcwidth in ./opt/miniconda3/envs/geo/lib/python3.9/site-packages (from prompt-toolkit!=3.0.0,!=3.0.1,<3.1.0,>=2.0.0->ipython>=4.0.0->ipywidgets<8,>=7.6.0->ipyleaflet) (0.2.5)\n",
      "Requirement already satisfied: pyparsing!=3.0.5,>=2.0.2 in ./opt/miniconda3/envs/geo/lib/python3.9/site-packages (from packaging->ipykernel>=4.5.1->ipywidgets<8,>=7.6.0->ipyleaflet) (3.0.9)\n",
      "Requirement already satisfied: asttokens in ./opt/miniconda3/envs/geo/lib/python3.9/site-packages (from stack-data->ipython>=4.0.0->ipywidgets<8,>=7.6.0->ipyleaflet) (2.0.5)\n",
      "Requirement already satisfied: executing in ./opt/miniconda3/envs/geo/lib/python3.9/site-packages (from stack-data->ipython>=4.0.0->ipywidgets<8,>=7.6.0->ipyleaflet) (0.8.3)\n",
      "Requirement already satisfied: pure-eval in ./opt/miniconda3/envs/geo/lib/python3.9/site-packages (from stack-data->ipython>=4.0.0->ipywidgets<8,>=7.6.0->ipyleaflet) (0.2.2)\n"
     ]
    },
    {
     "name": "stdout",
     "output_type": "stream",
     "text": [
      "Requirement already satisfied: MarkupSafe>=2.0 in ./opt/miniconda3/envs/geo/lib/python3.9/site-packages (from nbconvert>=5->notebook>=4.4.1->widgetsnbextension~=3.6.0->ipywidgets<8,>=7.6.0->ipyleaflet) (2.1.1)\n",
      "Requirement already satisfied: beautifulsoup4 in ./opt/miniconda3/envs/geo/lib/python3.9/site-packages (from nbconvert>=5->notebook>=4.4.1->widgetsnbextension~=3.6.0->ipywidgets<8,>=7.6.0->ipyleaflet) (4.11.1)\n",
      "Requirement already satisfied: defusedxml in ./opt/miniconda3/envs/geo/lib/python3.9/site-packages (from nbconvert>=5->notebook>=4.4.1->widgetsnbextension~=3.6.0->ipywidgets<8,>=7.6.0->ipyleaflet) (0.7.1)\n",
      "Requirement already satisfied: mistune<2,>=0.8.1 in ./opt/miniconda3/envs/geo/lib/python3.9/site-packages (from nbconvert>=5->notebook>=4.4.1->widgetsnbextension~=3.6.0->ipywidgets<8,>=7.6.0->ipyleaflet) (0.8.4)\n",
      "Requirement already satisfied: bleach in ./opt/miniconda3/envs/geo/lib/python3.9/site-packages (from nbconvert>=5->notebook>=4.4.1->widgetsnbextension~=3.6.0->ipywidgets<8,>=7.6.0->ipyleaflet) (5.0.0)\n",
      "Requirement already satisfied: tinycss2 in ./opt/miniconda3/envs/geo/lib/python3.9/site-packages (from nbconvert>=5->notebook>=4.4.1->widgetsnbextension~=3.6.0->ipywidgets<8,>=7.6.0->ipyleaflet) (1.1.1)\n",
      "Requirement already satisfied: jupyterlab-pygments in ./opt/miniconda3/envs/geo/lib/python3.9/site-packages (from nbconvert>=5->notebook>=4.4.1->widgetsnbextension~=3.6.0->ipywidgets<8,>=7.6.0->ipyleaflet) (0.2.2)\n",
      "Requirement already satisfied: nbclient>=0.5.0 in ./opt/miniconda3/envs/geo/lib/python3.9/site-packages (from nbconvert>=5->notebook>=4.4.1->widgetsnbextension~=3.6.0->ipywidgets<8,>=7.6.0->ipyleaflet) (0.5.13)\n",
      "Requirement already satisfied: pandocfilters>=1.4.1 in ./opt/miniconda3/envs/geo/lib/python3.9/site-packages (from nbconvert>=5->notebook>=4.4.1->widgetsnbextension~=3.6.0->ipywidgets<8,>=7.6.0->ipyleaflet) (1.5.0)\n",
      "Requirement already satisfied: six>=1.5 in ./opt/miniconda3/envs/geo/lib/python3.9/site-packages (from python-dateutil>=2.8.2->jupyter-client>=6.1.12->ipykernel>=4.5.1->ipywidgets<8,>=7.6.0->ipyleaflet) (1.16.0)\n",
      "Requirement already satisfied: cffi>=1.0.0 in ./opt/miniconda3/envs/geo/lib/python3.9/site-packages (from argon2-cffi->notebook>=4.4.1->widgetsnbextension~=3.6.0->ipywidgets<8,>=7.6.0->ipyleaflet) (1.15.0)\n",
      "Requirement already satisfied: pycparser in ./opt/miniconda3/envs/geo/lib/python3.9/site-packages (from cffi>=1.0.0->argon2-cffi->notebook>=4.4.1->widgetsnbextension~=3.6.0->ipywidgets<8,>=7.6.0->ipyleaflet) (2.21)\n",
      "Requirement already satisfied: soupsieve>1.2 in ./opt/miniconda3/envs/geo/lib/python3.9/site-packages (from beautifulsoup4->nbconvert>=5->notebook>=4.4.1->widgetsnbextension~=3.6.0->ipywidgets<8,>=7.6.0->ipyleaflet) (2.3.1)\n",
      "Requirement already satisfied: webencodings in ./opt/miniconda3/envs/geo/lib/python3.9/site-packages (from bleach->nbconvert>=5->notebook>=4.4.1->widgetsnbextension~=3.6.0->ipywidgets<8,>=7.6.0->ipyleaflet) (0.5.1)\n"
     ]
    }
   ],
   "source": [
    "!pip install ipyleaflet"
   ]
  },
  {
   "cell_type": "code",
   "execution_count": 34,
   "id": "f5c66c53",
   "metadata": {},
   "outputs": [],
   "source": [
    "import ipyleaflet"
   ]
  },
  {
   "cell_type": "code",
   "execution_count": 59,
   "id": "c48ffc42",
   "metadata": {},
   "outputs": [
    {
     "data": {
      "application/vnd.jupyter.widget-view+json": {
       "model_id": "0c0991732dbb4c07afca794fdda70fee",
       "version_major": 2,
       "version_minor": 0
      },
      "text/plain": [
       "Map(center=[48.8566, 2.3522], controls=(ZoomControl(options=['position', 'zoom_in_text', 'zoom_in_title', 'zoo…"
      ]
     },
     "metadata": {},
     "output_type": "display_data"
    }
   ],
   "source": [
    "from ipyleaflet import *\n",
    "m = Map(center=[48.8566, 2.3522], zoom=10, height=600, widescreen=False,basemaps=basemaps.Stamen.Terrain)\n",
    "m"
   ]
  },
  {
   "cell_type": "code",
   "execution_count": 60,
   "id": "94fe733e",
   "metadata": {},
   "outputs": [
    {
     "data": {
      "application/vnd.jupyter.widget-view+json": {
       "model_id": "0dfbb7d5b40c412ea6f935efb5f762da",
       "version_major": 2,
       "version_minor": 0
      },
      "text/plain": [
       "Map(center=[48.8566, 2.3522], controls=(ZoomControl(options=['position', 'zoom_in_text', 'zoom_in_title', 'zoo…"
      ]
     },
     "metadata": {},
     "output_type": "display_data"
    }
   ],
   "source": [
    "m = Map(center=[48.8566, 2.3522], zoom=12, basemap=basemaps.Esri.WorldImagery)\n",
    "m"
   ]
  },
  {
   "cell_type": "code",
   "execution_count": 58,
   "id": "dead1323",
   "metadata": {},
   "outputs": [
    {
     "data": {
      "application/vnd.jupyter.widget-view+json": {
       "model_id": "33b2563d632e414ab6ffee1b4ab1236b",
       "version_major": 2,
       "version_minor": 0
      },
      "text/plain": [
       "Box(children=(IntSlider(value=10, description='zoom', max=10, min=5),))"
      ]
     },
     "metadata": {},
     "output_type": "display_data"
    }
   ],
   "source": [
    "m.interact(zoom=(5,10,1))"
   ]
  },
  {
   "cell_type": "code",
   "execution_count": 20,
   "id": "9f54b4ec",
   "metadata": {},
   "outputs": [
    {
     "name": "stdout",
     "output_type": "stream",
     "text": [
      "Basemap can only be one of the following:\n",
      "  OpenStreetMap\n",
      "  ROADMAP\n",
      "  SATELLITE\n",
      "  TERRAIN\n",
      "  HYBRID\n",
      "  FWS NWI Wetlands\n",
      "  FWS NWI Wetlands Raster\n",
      "  NLCD 2019 CONUS Land Cover\n",
      "  NLCD 2016 CONUS Land Cover\n",
      "  NLCD 2013 CONUS Land Cover\n",
      "  NLCD 2011 CONUS Land Cover\n",
      "  NLCD 2008 CONUS Land Cover\n",
      "  NLCD 2006 CONUS Land Cover\n",
      "  NLCD 2004 CONUS Land Cover\n",
      "  NLCD 2001 CONUS Land Cover\n",
      "  USGS NAIP Imagery\n",
      "  USGS NAIP Imagery False Color\n",
      "  USGS NAIP Imagery NDVI\n",
      "  USGS Hydrography\n",
      "  USGS 3DEP Elevation\n",
      "  ESA WorldCover 2020\n",
      "  ESA WorldCover 2020 S2 FCC\n",
      "  ESA WorldCover 2020 S2 TCC\n",
      "  BasemapAT.basemap\n",
      "  BasemapAT.grau\n",
      "  BasemapAT.highdpi\n",
      "  BasemapAT.orthofoto\n",
      "  BasemapAT.overlay\n",
      "  BasemapAT.surface\n",
      "  BasemapAT.terrain\n",
      "  CartoDB.DarkMatter\n",
      "  CartoDB.DarkMatterNoLabels\n",
      "  CartoDB.DarkMatterOnlyLabels\n",
      "  CartoDB.Positron\n",
      "  CartoDB.PositronNoLabels\n",
      "  CartoDB.PositronOnlyLabels\n",
      "  CartoDB.Voyager\n",
      "  CartoDB.VoyagerLabelsUnder\n",
      "  CartoDB.VoyagerNoLabels\n",
      "  CartoDB.VoyagerOnlyLabels\n",
      "  CyclOSM\n",
      "  Esri.AntarcticBasemap\n",
      "  Esri.ArcticOceanBase\n",
      "  Esri.ArcticOceanReference\n",
      "  Esri.DeLorme\n",
      "  Esri.NatGeoWorldMap\n",
      "  Esri.OceanBasemap\n",
      "  Esri.WorldGrayCanvas\n",
      "  Esri.WorldImagery\n",
      "  Esri.WorldPhysical\n",
      "  Esri.WorldShadedRelief\n",
      "  Esri.WorldStreetMap\n",
      "  Esri.WorldTerrain\n",
      "  Esri.WorldTopoMap\n",
      "  FreeMapSK\n",
      "  Gaode.Normal\n",
      "  Gaode.Satellite\n",
      "  GeoportailFrance.orthos\n",
      "  GeoportailFrance.parcels\n",
      "  GeoportailFrance.plan\n",
      "  HikeBike.HikeBike\n",
      "  HikeBike.HillShading\n",
      "  JusticeMap.americanIndian\n",
      "  JusticeMap.asian\n",
      "  JusticeMap.black\n",
      "  JusticeMap.hispanic\n",
      "  JusticeMap.income\n",
      "  JusticeMap.multi\n",
      "  JusticeMap.nonWhite\n",
      "  JusticeMap.plurality\n",
      "  JusticeMap.white\n",
      "  MtbMap\n",
      "  NASAGIBS.BlueMarble\n",
      "  NASAGIBS.BlueMarble3031\n",
      "  NASAGIBS.BlueMarble3413\n",
      "  NASAGIBS.ModisAquaBands721CR\n",
      "  NASAGIBS.ModisAquaTrueColorCR\n",
      "  NASAGIBS.ModisTerraAOD\n",
      "  NASAGIBS.ModisTerraBands367CR\n",
      "  NASAGIBS.ModisTerraBands721CR\n",
      "  NASAGIBS.ModisTerraChlorophyll\n",
      "  NASAGIBS.ModisTerraLSTDay\n",
      "  NASAGIBS.ModisTerraSnowCover\n",
      "  NASAGIBS.ModisTerraTrueColorCR\n",
      "  NASAGIBS.ViirsEarthAtNight2012\n",
      "  NASAGIBS.ViirsTrueColorCR\n",
      "  NLS\n",
      "  OPNVKarte\n",
      "  OneMapSG.Default\n",
      "  OneMapSG.Grey\n",
      "  OneMapSG.LandLot\n",
      "  OneMapSG.Night\n",
      "  OneMapSG.Original\n",
      "  OpenAIP\n",
      "  OpenFireMap\n",
      "  OpenRailwayMap\n",
      "  OpenSeaMap\n",
      "  OpenSnowMap.pistes\n",
      "  OpenStreetMap.BZH\n",
      "  OpenStreetMap.BlackAndWhite\n",
      "  OpenStreetMap.CH\n",
      "  OpenStreetMap.DE\n",
      "  OpenStreetMap.France\n",
      "  OpenStreetMap.HOT\n",
      "  OpenStreetMap.Mapnik\n",
      "  OpenTopoMap\n",
      "  SafeCast\n",
      "  Stadia.AlidadeSmooth\n",
      "  Stadia.AlidadeSmoothDark\n",
      "  Stadia.OSMBright\n",
      "  Stadia.Outdoors\n",
      "  Stamen.Terrain\n",
      "  Stamen.TerrainBackground\n",
      "  Stamen.TerrainLabels\n",
      "  Stamen.Toner\n",
      "  Stamen.TonerBackground\n",
      "  Stamen.TonerHybrid\n",
      "  Stamen.TonerLabels\n",
      "  Stamen.TonerLines\n",
      "  Stamen.TonerLite\n",
      "  Stamen.TopOSMFeatures\n",
      "  Stamen.TopOSMRelief\n",
      "  Stamen.Watercolor\n",
      "  Strava.All\n",
      "  Strava.Ride\n",
      "  Strava.Run\n",
      "  Strava.Water\n",
      "  Strava.Winter\n",
      "  SwissFederalGeoportal.JourneyThroughTime\n",
      "  SwissFederalGeoportal.NationalMapColor\n",
      "  SwissFederalGeoportal.NationalMapGrey\n",
      "  SwissFederalGeoportal.SWISSIMAGE\n",
      "  USGS.USImagery\n",
      "  USGS.USImageryTopo\n",
      "  USGS.USTopo\n",
      "  WaymarkedTrails.cycling\n",
      "  WaymarkedTrails.hiking\n",
      "  WaymarkedTrails.mtb\n",
      "  WaymarkedTrails.riding\n",
      "  WaymarkedTrails.skating\n",
      "  WaymarkedTrails.slopes\n",
      "  nlmaps.grijs\n",
      "  nlmaps.luchtfoto\n",
      "  nlmaps.pastel\n",
      "  nlmaps.standaard\n",
      "  nlmaps.water\n"
     ]
    },
    {
     "data": {
      "application/vnd.jupyter.widget-view+json": {
       "model_id": "2415aa2b254a4a1c9ecdb7d04f1fb7d3",
       "version_major": 2,
       "version_minor": 0
      },
      "text/plain": [
       "Map(center=[20, 0], controls=(ZoomControl(options=['position', 'zoom_in_text', 'zoom_in_title', 'zoom_out_text…"
      ]
     },
     "metadata": {},
     "output_type": "display_data"
    }
   ],
   "source": [
    "m = leafmap.Map()\n",
    "m.add_basemap(\"HYBRID\")\n",
    "m.add_basemap(\"basemap\")\n",
    "m\n",
    "\n"
   ]
  },
  {
   "cell_type": "code",
   "execution_count": 61,
   "id": "02a99278",
   "metadata": {},
   "outputs": [
    {
     "data": {
      "application/vnd.jupyter.widget-view+json": {
       "model_id": "0dfbb7d5b40c412ea6f935efb5f762da",
       "version_major": 2,
       "version_minor": 0
      },
      "text/plain": [
       "Map(bottom=360940.0, center=[48.8566, 2.3522], controls=(ZoomControl(options=['position', 'zoom_in_text', 'zoo…"
      ]
     },
     "metadata": {},
     "output_type": "display_data"
    }
   ],
   "source": [
    "minimap = Map(\n",
    "    zoom_control=False, attribution_control=False, \n",
    "    zoom=5, center=m.center, basemap=basemaps.Stamen.Terrain\n",
    ")\n",
    "minimap.layout.width = '200px'\n",
    "minimap.layout.height = '200px'\n",
    "link((minimap, 'center'), (m, 'center'))\n",
    "minimap_control = WidgetControl(widget=minimap, position='bottomleft')\n",
    "m.add_control(minimap_control)\n",
    "m"
   ]
  },
  {
   "cell_type": "code",
   "execution_count": 23,
   "id": "cf481056",
   "metadata": {},
   "outputs": [
    {
     "name": "stdout",
     "output_type": "stream",
     "text": [
      "Basemap can only be one of the following:\n",
      "  OpenStreetMap\n",
      "  ROADMAP\n",
      "  SATELLITE\n",
      "  TERRAIN\n",
      "  HYBRID\n",
      "  FWS NWI Wetlands\n",
      "  FWS NWI Wetlands Raster\n",
      "  NLCD 2019 CONUS Land Cover\n",
      "  NLCD 2016 CONUS Land Cover\n",
      "  NLCD 2013 CONUS Land Cover\n",
      "  NLCD 2011 CONUS Land Cover\n",
      "  NLCD 2008 CONUS Land Cover\n",
      "  NLCD 2006 CONUS Land Cover\n",
      "  NLCD 2004 CONUS Land Cover\n",
      "  NLCD 2001 CONUS Land Cover\n",
      "  USGS NAIP Imagery\n",
      "  USGS NAIP Imagery False Color\n",
      "  USGS NAIP Imagery NDVI\n",
      "  USGS Hydrography\n",
      "  USGS 3DEP Elevation\n",
      "  ESA WorldCover 2020\n",
      "  ESA WorldCover 2020 S2 FCC\n",
      "  ESA WorldCover 2020 S2 TCC\n",
      "  BasemapAT.basemap\n",
      "  BasemapAT.grau\n",
      "  BasemapAT.highdpi\n",
      "  BasemapAT.orthofoto\n",
      "  BasemapAT.overlay\n",
      "  BasemapAT.surface\n",
      "  BasemapAT.terrain\n",
      "  CartoDB.DarkMatter\n",
      "  CartoDB.DarkMatterNoLabels\n",
      "  CartoDB.DarkMatterOnlyLabels\n",
      "  CartoDB.Positron\n",
      "  CartoDB.PositronNoLabels\n",
      "  CartoDB.PositronOnlyLabels\n",
      "  CartoDB.Voyager\n",
      "  CartoDB.VoyagerLabelsUnder\n",
      "  CartoDB.VoyagerNoLabels\n",
      "  CartoDB.VoyagerOnlyLabels\n",
      "  CyclOSM\n",
      "  Esri.AntarcticBasemap\n",
      "  Esri.ArcticOceanBase\n",
      "  Esri.ArcticOceanReference\n",
      "  Esri.DeLorme\n",
      "  Esri.NatGeoWorldMap\n",
      "  Esri.OceanBasemap\n",
      "  Esri.WorldGrayCanvas\n",
      "  Esri.WorldImagery\n",
      "  Esri.WorldPhysical\n",
      "  Esri.WorldShadedRelief\n",
      "  Esri.WorldStreetMap\n",
      "  Esri.WorldTerrain\n",
      "  Esri.WorldTopoMap\n",
      "  FreeMapSK\n",
      "  Gaode.Normal\n",
      "  Gaode.Satellite\n",
      "  GeoportailFrance.orthos\n",
      "  GeoportailFrance.parcels\n",
      "  GeoportailFrance.plan\n",
      "  HikeBike.HikeBike\n",
      "  HikeBike.HillShading\n",
      "  JusticeMap.americanIndian\n",
      "  JusticeMap.asian\n",
      "  JusticeMap.black\n",
      "  JusticeMap.hispanic\n",
      "  JusticeMap.income\n",
      "  JusticeMap.multi\n",
      "  JusticeMap.nonWhite\n",
      "  JusticeMap.plurality\n",
      "  JusticeMap.white\n",
      "  MtbMap\n",
      "  NASAGIBS.BlueMarble\n",
      "  NASAGIBS.BlueMarble3031\n",
      "  NASAGIBS.BlueMarble3413\n",
      "  NASAGIBS.ModisAquaBands721CR\n",
      "  NASAGIBS.ModisAquaTrueColorCR\n",
      "  NASAGIBS.ModisTerraAOD\n",
      "  NASAGIBS.ModisTerraBands367CR\n",
      "  NASAGIBS.ModisTerraBands721CR\n",
      "  NASAGIBS.ModisTerraChlorophyll\n",
      "  NASAGIBS.ModisTerraLSTDay\n",
      "  NASAGIBS.ModisTerraSnowCover\n",
      "  NASAGIBS.ModisTerraTrueColorCR\n",
      "  NASAGIBS.ViirsEarthAtNight2012\n",
      "  NASAGIBS.ViirsTrueColorCR\n",
      "  NLS\n",
      "  OPNVKarte\n",
      "  OneMapSG.Default\n",
      "  OneMapSG.Grey\n",
      "  OneMapSG.LandLot\n",
      "  OneMapSG.Night\n",
      "  OneMapSG.Original\n",
      "  OpenAIP\n",
      "  OpenFireMap\n",
      "  OpenRailwayMap\n",
      "  OpenSeaMap\n",
      "  OpenSnowMap.pistes\n",
      "  OpenStreetMap.BZH\n",
      "  OpenStreetMap.BlackAndWhite\n",
      "  OpenStreetMap.CH\n",
      "  OpenStreetMap.DE\n",
      "  OpenStreetMap.France\n",
      "  OpenStreetMap.HOT\n",
      "  OpenStreetMap.Mapnik\n",
      "  OpenTopoMap\n",
      "  SafeCast\n",
      "  Stadia.AlidadeSmooth\n",
      "  Stadia.AlidadeSmoothDark\n",
      "  Stadia.OSMBright\n",
      "  Stadia.Outdoors\n",
      "  Stamen.Terrain\n",
      "  Stamen.TerrainBackground\n",
      "  Stamen.TerrainLabels\n",
      "  Stamen.Toner\n",
      "  Stamen.TonerBackground\n",
      "  Stamen.TonerHybrid\n",
      "  Stamen.TonerLabels\n",
      "  Stamen.TonerLines\n",
      "  Stamen.TonerLite\n",
      "  Stamen.TopOSMFeatures\n",
      "  Stamen.TopOSMRelief\n",
      "  Stamen.Watercolor\n",
      "  Strava.All\n",
      "  Strava.Ride\n",
      "  Strava.Run\n",
      "  Strava.Water\n",
      "  Strava.Winter\n",
      "  SwissFederalGeoportal.JourneyThroughTime\n",
      "  SwissFederalGeoportal.NationalMapColor\n",
      "  SwissFederalGeoportal.NationalMapGrey\n",
      "  SwissFederalGeoportal.SWISSIMAGE\n",
      "  USGS.USImagery\n",
      "  USGS.USImageryTopo\n",
      "  USGS.USTopo\n",
      "  WaymarkedTrails.cycling\n",
      "  WaymarkedTrails.hiking\n",
      "  WaymarkedTrails.mtb\n",
      "  WaymarkedTrails.riding\n",
      "  WaymarkedTrails.skating\n",
      "  WaymarkedTrails.slopes\n",
      "  nlmaps.grijs\n",
      "  nlmaps.luchtfoto\n",
      "  nlmaps.pastel\n",
      "  nlmaps.standaard\n",
      "  nlmaps.water\n"
     ]
    },
    {
     "data": {
      "application/vnd.jupyter.widget-view+json": {
       "model_id": "88d8472faeb04611b9e3b238fbdda4bd",
       "version_major": 2,
       "version_minor": 0
      },
      "text/plain": [
       "Map(bottom=90485.0, center=[48.8566, 2.3522], controls=(ZoomControl(options=['position', 'zoom_in_text', 'zoom…"
      ]
     },
     "metadata": {},
     "output_type": "display_data"
    }
   ],
   "source": [
    "m.add_basemap(\"WorldGrayCanvas\")\n",
    "m"
   ]
  },
  {
   "cell_type": "code",
   "execution_count": null,
   "id": "337931aa",
   "metadata": {},
   "outputs": [],
   "source": []
  }
 ],
 "metadata": {
  "hide_input": false,
  "kernelspec": {
   "display_name": "geo",
   "language": "python",
   "name": "geo"
  },
  "language_info": {
   "codemirror_mode": {
    "name": "ipython",
    "version": 3
   },
   "file_extension": ".py",
   "mimetype": "text/x-python",
   "name": "python",
   "nbconvert_exporter": "python",
   "pygments_lexer": "ipython3",
   "version": "3.9.13"
  },
  "toc": {
   "base_numbering": 1,
   "nav_menu": {},
   "number_sections": true,
   "sideBar": true,
   "skip_h1_title": false,
   "title_cell": "Table of Contents",
   "title_sidebar": "Contents",
   "toc_cell": false,
   "toc_position": {},
   "toc_section_display": true,
   "toc_window_display": false
  }
 },
 "nbformat": 4,
 "nbformat_minor": 5
}
